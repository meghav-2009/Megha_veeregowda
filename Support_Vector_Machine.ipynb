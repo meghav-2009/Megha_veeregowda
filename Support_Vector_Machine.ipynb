{
 "cells": [
  {
   "cell_type": "code",
   "execution_count": 1,
   "id": "79218d22-de77-48ec-aee4-d1a8d9be4204",
   "metadata": {},
   "outputs": [],
   "source": [
    "import pandas as pd\n",
    "from sklearn.model_selection import train_test_split\n",
    "from sklearn.naive_bayes import MultinomialNB\n",
    "from sklearn.metrics import confusion_matrix\n",
    "from sklearn.feature_extraction.text import CountVectorizer\n",
    "import matplotlib.pyplot as plt\n",
    "import seaborn as sns"
   ]
  },
  {
   "cell_type": "code",
   "execution_count": 2,
   "id": "9f978747-7327-4b3f-8cfa-ad58cb1d53cf",
   "metadata": {},
   "outputs": [],
   "source": [
    "df = pd.read_csv(\"Cleaned_Dataset.csv\")"
   ]
  },
  {
   "cell_type": "code",
   "execution_count": 3,
   "id": "2a71d683",
   "metadata": {},
   "outputs": [
    {
     "data": {
      "text/html": [
       "<div>\n",
       "<style scoped>\n",
       "    .dataframe tbody tr th:only-of-type {\n",
       "        vertical-align: middle;\n",
       "    }\n",
       "\n",
       "    .dataframe tbody tr th {\n",
       "        vertical-align: top;\n",
       "    }\n",
       "\n",
       "    .dataframe thead th {\n",
       "        text-align: right;\n",
       "    }\n",
       "</style>\n",
       "<table border=\"1\" class=\"dataframe\">\n",
       "  <thead>\n",
       "    <tr style=\"text-align: right;\">\n",
       "      <th></th>\n",
       "      <th>Unnamed: 0</th>\n",
       "      <th>screen_size</th>\n",
       "      <th>rear_camera_mp</th>\n",
       "      <th>front_camera_mp</th>\n",
       "      <th>internal_memory</th>\n",
       "      <th>ram</th>\n",
       "      <th>battery</th>\n",
       "      <th>weight</th>\n",
       "      <th>release_year</th>\n",
       "      <th>days_used</th>\n",
       "      <th>normalized_used_price</th>\n",
       "      <th>new_price</th>\n",
       "    </tr>\n",
       "  </thead>\n",
       "  <tbody>\n",
       "    <tr>\n",
       "      <th>0</th>\n",
       "      <td>0</td>\n",
       "      <td>14.50</td>\n",
       "      <td>13.0</td>\n",
       "      <td>5.0</td>\n",
       "      <td>64.0</td>\n",
       "      <td>3.0</td>\n",
       "      <td>3020.0</td>\n",
       "      <td>146.0</td>\n",
       "      <td>2020</td>\n",
       "      <td>127</td>\n",
       "      <td>4.307572</td>\n",
       "      <td>Less_than_40k</td>\n",
       "    </tr>\n",
       "    <tr>\n",
       "      <th>1</th>\n",
       "      <td>1</td>\n",
       "      <td>17.30</td>\n",
       "      <td>13.0</td>\n",
       "      <td>16.0</td>\n",
       "      <td>128.0</td>\n",
       "      <td>8.0</td>\n",
       "      <td>4300.0</td>\n",
       "      <td>213.0</td>\n",
       "      <td>2020</td>\n",
       "      <td>325</td>\n",
       "      <td>5.162097</td>\n",
       "      <td>Around_50k</td>\n",
       "    </tr>\n",
       "    <tr>\n",
       "      <th>2</th>\n",
       "      <td>2</td>\n",
       "      <td>16.69</td>\n",
       "      <td>13.0</td>\n",
       "      <td>8.0</td>\n",
       "      <td>128.0</td>\n",
       "      <td>8.0</td>\n",
       "      <td>4200.0</td>\n",
       "      <td>213.0</td>\n",
       "      <td>2020</td>\n",
       "      <td>162</td>\n",
       "      <td>5.111084</td>\n",
       "      <td>More_than_60k</td>\n",
       "    </tr>\n",
       "    <tr>\n",
       "      <th>3</th>\n",
       "      <td>3</td>\n",
       "      <td>25.50</td>\n",
       "      <td>13.0</td>\n",
       "      <td>8.0</td>\n",
       "      <td>64.0</td>\n",
       "      <td>6.0</td>\n",
       "      <td>7250.0</td>\n",
       "      <td>480.0</td>\n",
       "      <td>2020</td>\n",
       "      <td>345</td>\n",
       "      <td>5.135387</td>\n",
       "      <td>More_than_60k</td>\n",
       "    </tr>\n",
       "    <tr>\n",
       "      <th>4</th>\n",
       "      <td>4</td>\n",
       "      <td>15.32</td>\n",
       "      <td>13.0</td>\n",
       "      <td>8.0</td>\n",
       "      <td>64.0</td>\n",
       "      <td>3.0</td>\n",
       "      <td>5000.0</td>\n",
       "      <td>185.0</td>\n",
       "      <td>2020</td>\n",
       "      <td>293</td>\n",
       "      <td>4.389995</td>\n",
       "      <td>Around_50k</td>\n",
       "    </tr>\n",
       "  </tbody>\n",
       "</table>\n",
       "</div>"
      ],
      "text/plain": [
       "   Unnamed: 0  screen_size  rear_camera_mp  front_camera_mp  internal_memory  \\\n",
       "0           0        14.50            13.0              5.0             64.0   \n",
       "1           1        17.30            13.0             16.0            128.0   \n",
       "2           2        16.69            13.0              8.0            128.0   \n",
       "3           3        25.50            13.0              8.0             64.0   \n",
       "4           4        15.32            13.0              8.0             64.0   \n",
       "\n",
       "   ram  battery  weight  release_year  days_used  normalized_used_price  \\\n",
       "0  3.0   3020.0   146.0          2020        127               4.307572   \n",
       "1  8.0   4300.0   213.0          2020        325               5.162097   \n",
       "2  8.0   4200.0   213.0          2020        162               5.111084   \n",
       "3  6.0   7250.0   480.0          2020        345               5.135387   \n",
       "4  3.0   5000.0   185.0          2020        293               4.389995   \n",
       "\n",
       "       new_price  \n",
       "0  Less_than_40k  \n",
       "1     Around_50k  \n",
       "2  More_than_60k  \n",
       "3  More_than_60k  \n",
       "4     Around_50k  "
      ]
     },
     "execution_count": 3,
     "metadata": {},
     "output_type": "execute_result"
    }
   ],
   "source": [
    "df.head()"
   ]
  },
  {
   "cell_type": "code",
   "execution_count": 4,
   "id": "2a71b346-b7e7-4cd3-a3fa-ff9a414764c3",
   "metadata": {},
   "outputs": [],
   "source": [
    "#df = df.drop(columns=[ \"device_brand\", \"os\",\"4g\",\"5g\"])"
   ]
  },
  {
   "cell_type": "code",
   "execution_count": 5,
   "id": "fa2b9e83",
   "metadata": {},
   "outputs": [
    {
     "data": {
      "text/html": [
       "<div>\n",
       "<style scoped>\n",
       "    .dataframe tbody tr th:only-of-type {\n",
       "        vertical-align: middle;\n",
       "    }\n",
       "\n",
       "    .dataframe tbody tr th {\n",
       "        vertical-align: top;\n",
       "    }\n",
       "\n",
       "    .dataframe thead th {\n",
       "        text-align: right;\n",
       "    }\n",
       "</style>\n",
       "<table border=\"1\" class=\"dataframe\">\n",
       "  <thead>\n",
       "    <tr style=\"text-align: right;\">\n",
       "      <th></th>\n",
       "      <th>Unnamed: 0</th>\n",
       "      <th>screen_size</th>\n",
       "      <th>rear_camera_mp</th>\n",
       "      <th>front_camera_mp</th>\n",
       "      <th>internal_memory</th>\n",
       "      <th>ram</th>\n",
       "      <th>battery</th>\n",
       "      <th>weight</th>\n",
       "      <th>release_year</th>\n",
       "      <th>days_used</th>\n",
       "      <th>normalized_used_price</th>\n",
       "      <th>new_price</th>\n",
       "    </tr>\n",
       "  </thead>\n",
       "  <tbody>\n",
       "    <tr>\n",
       "      <th>0</th>\n",
       "      <td>0</td>\n",
       "      <td>14.50</td>\n",
       "      <td>13.0</td>\n",
       "      <td>5.0</td>\n",
       "      <td>64.0</td>\n",
       "      <td>3.0</td>\n",
       "      <td>3020.0</td>\n",
       "      <td>146.0</td>\n",
       "      <td>2020</td>\n",
       "      <td>127</td>\n",
       "      <td>4.307572</td>\n",
       "      <td>Less_than_40k</td>\n",
       "    </tr>\n",
       "    <tr>\n",
       "      <th>1</th>\n",
       "      <td>1</td>\n",
       "      <td>17.30</td>\n",
       "      <td>13.0</td>\n",
       "      <td>16.0</td>\n",
       "      <td>128.0</td>\n",
       "      <td>8.0</td>\n",
       "      <td>4300.0</td>\n",
       "      <td>213.0</td>\n",
       "      <td>2020</td>\n",
       "      <td>325</td>\n",
       "      <td>5.162097</td>\n",
       "      <td>Around_50k</td>\n",
       "    </tr>\n",
       "    <tr>\n",
       "      <th>2</th>\n",
       "      <td>2</td>\n",
       "      <td>16.69</td>\n",
       "      <td>13.0</td>\n",
       "      <td>8.0</td>\n",
       "      <td>128.0</td>\n",
       "      <td>8.0</td>\n",
       "      <td>4200.0</td>\n",
       "      <td>213.0</td>\n",
       "      <td>2020</td>\n",
       "      <td>162</td>\n",
       "      <td>5.111084</td>\n",
       "      <td>More_than_60k</td>\n",
       "    </tr>\n",
       "    <tr>\n",
       "      <th>3</th>\n",
       "      <td>3</td>\n",
       "      <td>25.50</td>\n",
       "      <td>13.0</td>\n",
       "      <td>8.0</td>\n",
       "      <td>64.0</td>\n",
       "      <td>6.0</td>\n",
       "      <td>7250.0</td>\n",
       "      <td>480.0</td>\n",
       "      <td>2020</td>\n",
       "      <td>345</td>\n",
       "      <td>5.135387</td>\n",
       "      <td>More_than_60k</td>\n",
       "    </tr>\n",
       "    <tr>\n",
       "      <th>4</th>\n",
       "      <td>4</td>\n",
       "      <td>15.32</td>\n",
       "      <td>13.0</td>\n",
       "      <td>8.0</td>\n",
       "      <td>64.0</td>\n",
       "      <td>3.0</td>\n",
       "      <td>5000.0</td>\n",
       "      <td>185.0</td>\n",
       "      <td>2020</td>\n",
       "      <td>293</td>\n",
       "      <td>4.389995</td>\n",
       "      <td>Around_50k</td>\n",
       "    </tr>\n",
       "    <tr>\n",
       "      <th>...</th>\n",
       "      <td>...</td>\n",
       "      <td>...</td>\n",
       "      <td>...</td>\n",
       "      <td>...</td>\n",
       "      <td>...</td>\n",
       "      <td>...</td>\n",
       "      <td>...</td>\n",
       "      <td>...</td>\n",
       "      <td>...</td>\n",
       "      <td>...</td>\n",
       "      <td>...</td>\n",
       "      <td>...</td>\n",
       "    </tr>\n",
       "    <tr>\n",
       "      <th>3311</th>\n",
       "      <td>3322</td>\n",
       "      <td>12.90</td>\n",
       "      <td>8.0</td>\n",
       "      <td>7.0</td>\n",
       "      <td>64.0</td>\n",
       "      <td>4.0</td>\n",
       "      <td>3046.0</td>\n",
       "      <td>188.0</td>\n",
       "      <td>2019</td>\n",
       "      <td>351</td>\n",
       "      <td>5.440164</td>\n",
       "      <td>More_than_60k</td>\n",
       "    </tr>\n",
       "    <tr>\n",
       "      <th>3312</th>\n",
       "      <td>3323</td>\n",
       "      <td>15.24</td>\n",
       "      <td>13.0</td>\n",
       "      <td>8.0</td>\n",
       "      <td>128.0</td>\n",
       "      <td>8.0</td>\n",
       "      <td>4000.0</td>\n",
       "      <td>200.0</td>\n",
       "      <td>2018</td>\n",
       "      <td>541</td>\n",
       "      <td>5.037732</td>\n",
       "      <td>More_than_60k</td>\n",
       "    </tr>\n",
       "    <tr>\n",
       "      <th>3313</th>\n",
       "      <td>3324</td>\n",
       "      <td>15.80</td>\n",
       "      <td>13.0</td>\n",
       "      <td>5.0</td>\n",
       "      <td>32.0</td>\n",
       "      <td>3.0</td>\n",
       "      <td>4000.0</td>\n",
       "      <td>165.0</td>\n",
       "      <td>2020</td>\n",
       "      <td>201</td>\n",
       "      <td>4.357350</td>\n",
       "      <td>Less_than_40k</td>\n",
       "    </tr>\n",
       "    <tr>\n",
       "      <th>3314</th>\n",
       "      <td>3325</td>\n",
       "      <td>15.80</td>\n",
       "      <td>13.0</td>\n",
       "      <td>5.0</td>\n",
       "      <td>32.0</td>\n",
       "      <td>2.0</td>\n",
       "      <td>4000.0</td>\n",
       "      <td>160.0</td>\n",
       "      <td>2020</td>\n",
       "      <td>149</td>\n",
       "      <td>4.349762</td>\n",
       "      <td>Less_than_40k</td>\n",
       "    </tr>\n",
       "    <tr>\n",
       "      <th>3315</th>\n",
       "      <td>3326</td>\n",
       "      <td>12.83</td>\n",
       "      <td>13.0</td>\n",
       "      <td>5.0</td>\n",
       "      <td>16.0</td>\n",
       "      <td>2.0</td>\n",
       "      <td>4000.0</td>\n",
       "      <td>168.0</td>\n",
       "      <td>2020</td>\n",
       "      <td>176</td>\n",
       "      <td>4.132122</td>\n",
       "      <td>Less_than_40k</td>\n",
       "    </tr>\n",
       "  </tbody>\n",
       "</table>\n",
       "<p>3316 rows × 12 columns</p>\n",
       "</div>"
      ],
      "text/plain": [
       "      Unnamed: 0  screen_size  rear_camera_mp  front_camera_mp  \\\n",
       "0              0        14.50            13.0              5.0   \n",
       "1              1        17.30            13.0             16.0   \n",
       "2              2        16.69            13.0              8.0   \n",
       "3              3        25.50            13.0              8.0   \n",
       "4              4        15.32            13.0              8.0   \n",
       "...          ...          ...             ...              ...   \n",
       "3311        3322        12.90             8.0              7.0   \n",
       "3312        3323        15.24            13.0              8.0   \n",
       "3313        3324        15.80            13.0              5.0   \n",
       "3314        3325        15.80            13.0              5.0   \n",
       "3315        3326        12.83            13.0              5.0   \n",
       "\n",
       "      internal_memory  ram  battery  weight  release_year  days_used  \\\n",
       "0                64.0  3.0   3020.0   146.0          2020        127   \n",
       "1               128.0  8.0   4300.0   213.0          2020        325   \n",
       "2               128.0  8.0   4200.0   213.0          2020        162   \n",
       "3                64.0  6.0   7250.0   480.0          2020        345   \n",
       "4                64.0  3.0   5000.0   185.0          2020        293   \n",
       "...               ...  ...      ...     ...           ...        ...   \n",
       "3311             64.0  4.0   3046.0   188.0          2019        351   \n",
       "3312            128.0  8.0   4000.0   200.0          2018        541   \n",
       "3313             32.0  3.0   4000.0   165.0          2020        201   \n",
       "3314             32.0  2.0   4000.0   160.0          2020        149   \n",
       "3315             16.0  2.0   4000.0   168.0          2020        176   \n",
       "\n",
       "      normalized_used_price      new_price  \n",
       "0                  4.307572  Less_than_40k  \n",
       "1                  5.162097     Around_50k  \n",
       "2                  5.111084  More_than_60k  \n",
       "3                  5.135387  More_than_60k  \n",
       "4                  4.389995     Around_50k  \n",
       "...                     ...            ...  \n",
       "3311               5.440164  More_than_60k  \n",
       "3312               5.037732  More_than_60k  \n",
       "3313               4.357350  Less_than_40k  \n",
       "3314               4.349762  Less_than_40k  \n",
       "3315               4.132122  Less_than_40k  \n",
       "\n",
       "[3316 rows x 12 columns]"
      ]
     },
     "execution_count": 5,
     "metadata": {},
     "output_type": "execute_result"
    }
   ],
   "source": [
    "df"
   ]
  },
  {
   "cell_type": "code",
   "execution_count": 6,
   "id": "6d24d0db-59e9-4b99-a9cd-655198806d0e",
   "metadata": {},
   "outputs": [],
   "source": [
    "train_df, test_df = train_test_split(df, test_size=0.2, random_state=321)"
   ]
  },
  {
   "cell_type": "code",
   "execution_count": 7,
   "id": "76a51624-42cf-431e-bb09-b71203893fe7",
   "metadata": {},
   "outputs": [],
   "source": [
    "y_train = train_df[\"new_price\"]\n",
    "X_train = train_df.drop(columns=\"new_price\")\n",
    "y_test = test_df[\"new_price\"]\n",
    "X_test = test_df.drop(columns=\"new_price\")"
   ]
  },
  {
   "cell_type": "code",
   "execution_count": 8,
   "id": "ae36277d-cdc9-4cad-82ca-4998a6c3567c",
   "metadata": {},
   "outputs": [
    {
     "data": {
      "text/html": [
       "<div>\n",
       "<style scoped>\n",
       "    .dataframe tbody tr th:only-of-type {\n",
       "        vertical-align: middle;\n",
       "    }\n",
       "\n",
       "    .dataframe tbody tr th {\n",
       "        vertical-align: top;\n",
       "    }\n",
       "\n",
       "    .dataframe thead th {\n",
       "        text-align: right;\n",
       "    }\n",
       "</style>\n",
       "<table border=\"1\" class=\"dataframe\">\n",
       "  <thead>\n",
       "    <tr style=\"text-align: right;\">\n",
       "      <th></th>\n",
       "      <th>Unnamed: 0</th>\n",
       "      <th>screen_size</th>\n",
       "      <th>rear_camera_mp</th>\n",
       "      <th>front_camera_mp</th>\n",
       "      <th>internal_memory</th>\n",
       "      <th>ram</th>\n",
       "      <th>battery</th>\n",
       "      <th>weight</th>\n",
       "      <th>release_year</th>\n",
       "      <th>days_used</th>\n",
       "      <th>normalized_used_price</th>\n",
       "    </tr>\n",
       "  </thead>\n",
       "  <tbody>\n",
       "    <tr>\n",
       "      <th>978</th>\n",
       "      <td>985</td>\n",
       "      <td>12.70</td>\n",
       "      <td>8.0</td>\n",
       "      <td>2.0</td>\n",
       "      <td>16.0</td>\n",
       "      <td>4.0</td>\n",
       "      <td>2000.0</td>\n",
       "      <td>150.0</td>\n",
       "      <td>2016</td>\n",
       "      <td>1083</td>\n",
       "      <td>3.917011</td>\n",
       "    </tr>\n",
       "    <tr>\n",
       "      <th>3140</th>\n",
       "      <td>3150</td>\n",
       "      <td>12.85</td>\n",
       "      <td>12.2</td>\n",
       "      <td>8.0</td>\n",
       "      <td>64.0</td>\n",
       "      <td>4.0</td>\n",
       "      <td>3000.0</td>\n",
       "      <td>147.0</td>\n",
       "      <td>2019</td>\n",
       "      <td>508</td>\n",
       "      <td>4.470610</td>\n",
       "    </tr>\n",
       "    <tr>\n",
       "      <th>3312</th>\n",
       "      <td>3323</td>\n",
       "      <td>15.24</td>\n",
       "      <td>13.0</td>\n",
       "      <td>8.0</td>\n",
       "      <td>128.0</td>\n",
       "      <td>8.0</td>\n",
       "      <td>4000.0</td>\n",
       "      <td>200.0</td>\n",
       "      <td>2018</td>\n",
       "      <td>541</td>\n",
       "      <td>5.037732</td>\n",
       "    </tr>\n",
       "    <tr>\n",
       "      <th>3089</th>\n",
       "      <td>3099</td>\n",
       "      <td>12.75</td>\n",
       "      <td>16.0</td>\n",
       "      <td>8.0</td>\n",
       "      <td>32.0</td>\n",
       "      <td>4.0</td>\n",
       "      <td>2705.0</td>\n",
       "      <td>153.0</td>\n",
       "      <td>2016</td>\n",
       "      <td>1075</td>\n",
       "      <td>4.791235</td>\n",
       "    </tr>\n",
       "    <tr>\n",
       "      <th>195</th>\n",
       "      <td>200</td>\n",
       "      <td>16.23</td>\n",
       "      <td>12.0</td>\n",
       "      <td>20.0</td>\n",
       "      <td>64.0</td>\n",
       "      <td>4.0</td>\n",
       "      <td>3800.0</td>\n",
       "      <td>189.0</td>\n",
       "      <td>2019</td>\n",
       "      <td>362</td>\n",
       "      <td>4.989003</td>\n",
       "    </tr>\n",
       "  </tbody>\n",
       "</table>\n",
       "</div>"
      ],
      "text/plain": [
       "      Unnamed: 0  screen_size  rear_camera_mp  front_camera_mp  \\\n",
       "978          985        12.70             8.0              2.0   \n",
       "3140        3150        12.85            12.2              8.0   \n",
       "3312        3323        15.24            13.0              8.0   \n",
       "3089        3099        12.75            16.0              8.0   \n",
       "195          200        16.23            12.0             20.0   \n",
       "\n",
       "      internal_memory  ram  battery  weight  release_year  days_used  \\\n",
       "978              16.0  4.0   2000.0   150.0          2016       1083   \n",
       "3140             64.0  4.0   3000.0   147.0          2019        508   \n",
       "3312            128.0  8.0   4000.0   200.0          2018        541   \n",
       "3089             32.0  4.0   2705.0   153.0          2016       1075   \n",
       "195              64.0  4.0   3800.0   189.0          2019        362   \n",
       "\n",
       "      normalized_used_price  \n",
       "978                3.917011  \n",
       "3140               4.470610  \n",
       "3312               5.037732  \n",
       "3089               4.791235  \n",
       "195                4.989003  "
      ]
     },
     "execution_count": 8,
     "metadata": {},
     "output_type": "execute_result"
    }
   ],
   "source": [
    "X_train.head()"
   ]
  },
  {
   "cell_type": "code",
   "execution_count": 9,
   "id": "3eebba82-1951-4228-83e4-24389b0c0a34",
   "metadata": {},
   "outputs": [
    {
     "data": {
      "text/plain": [
       "978     Less_than_40k\n",
       "3140       Around_50k\n",
       "3312    More_than_60k\n",
       "3089       Around_50k\n",
       "195        Around_50k\n",
       "Name: new_price, dtype: object"
      ]
     },
     "execution_count": 9,
     "metadata": {},
     "output_type": "execute_result"
    }
   ],
   "source": [
    "y_train.head()"
   ]
  },
  {
   "cell_type": "code",
   "execution_count": 10,
   "id": "e81fb740-9196-418f-81b5-8bfbd424935b",
   "metadata": {},
   "outputs": [
    {
     "data": {
      "text/html": [
       "<div>\n",
       "<style scoped>\n",
       "    .dataframe tbody tr th:only-of-type {\n",
       "        vertical-align: middle;\n",
       "    }\n",
       "\n",
       "    .dataframe tbody tr th {\n",
       "        vertical-align: top;\n",
       "    }\n",
       "\n",
       "    .dataframe thead th {\n",
       "        text-align: right;\n",
       "    }\n",
       "</style>\n",
       "<table border=\"1\" class=\"dataframe\">\n",
       "  <thead>\n",
       "    <tr style=\"text-align: right;\">\n",
       "      <th></th>\n",
       "      <th>Unnamed: 0</th>\n",
       "      <th>screen_size</th>\n",
       "      <th>rear_camera_mp</th>\n",
       "      <th>front_camera_mp</th>\n",
       "      <th>internal_memory</th>\n",
       "      <th>ram</th>\n",
       "      <th>battery</th>\n",
       "      <th>weight</th>\n",
       "      <th>release_year</th>\n",
       "      <th>days_used</th>\n",
       "      <th>normalized_used_price</th>\n",
       "    </tr>\n",
       "  </thead>\n",
       "  <tbody>\n",
       "    <tr>\n",
       "      <th>2942</th>\n",
       "      <td>2951</td>\n",
       "      <td>13.79</td>\n",
       "      <td>16.0</td>\n",
       "      <td>8.0</td>\n",
       "      <td>128.0</td>\n",
       "      <td>4.0</td>\n",
       "      <td>3600.0</td>\n",
       "      <td>167.8</td>\n",
       "      <td>2016</td>\n",
       "      <td>618</td>\n",
       "      <td>4.879767</td>\n",
       "    </tr>\n",
       "    <tr>\n",
       "      <th>2410</th>\n",
       "      <td>2419</td>\n",
       "      <td>12.70</td>\n",
       "      <td>8.0</td>\n",
       "      <td>5.0</td>\n",
       "      <td>32.0</td>\n",
       "      <td>4.0</td>\n",
       "      <td>2450.0</td>\n",
       "      <td>147.0</td>\n",
       "      <td>2016</td>\n",
       "      <td>835</td>\n",
       "      <td>4.005878</td>\n",
       "    </tr>\n",
       "    <tr>\n",
       "      <th>2627</th>\n",
       "      <td>2636</td>\n",
       "      <td>10.16</td>\n",
       "      <td>5.0</td>\n",
       "      <td>0.3</td>\n",
       "      <td>32.0</td>\n",
       "      <td>4.0</td>\n",
       "      <td>1500.0</td>\n",
       "      <td>127.0</td>\n",
       "      <td>2016</td>\n",
       "      <td>843</td>\n",
       "      <td>3.592093</td>\n",
       "    </tr>\n",
       "    <tr>\n",
       "      <th>1566</th>\n",
       "      <td>1573</td>\n",
       "      <td>12.83</td>\n",
       "      <td>16.0</td>\n",
       "      <td>8.0</td>\n",
       "      <td>64.0</td>\n",
       "      <td>4.0</td>\n",
       "      <td>3340.0</td>\n",
       "      <td>160.0</td>\n",
       "      <td>2016</td>\n",
       "      <td>686</td>\n",
       "      <td>4.986206</td>\n",
       "    </tr>\n",
       "    <tr>\n",
       "      <th>2166</th>\n",
       "      <td>2174</td>\n",
       "      <td>10.16</td>\n",
       "      <td>5.0</td>\n",
       "      <td>0.3</td>\n",
       "      <td>16.0</td>\n",
       "      <td>4.0</td>\n",
       "      <td>2500.0</td>\n",
       "      <td>154.0</td>\n",
       "      <td>2015</td>\n",
       "      <td>1052</td>\n",
       "      <td>3.684118</td>\n",
       "    </tr>\n",
       "  </tbody>\n",
       "</table>\n",
       "</div>"
      ],
      "text/plain": [
       "      Unnamed: 0  screen_size  rear_camera_mp  front_camera_mp  \\\n",
       "2942        2951        13.79            16.0              8.0   \n",
       "2410        2419        12.70             8.0              5.0   \n",
       "2627        2636        10.16             5.0              0.3   \n",
       "1566        1573        12.83            16.0              8.0   \n",
       "2166        2174        10.16             5.0              0.3   \n",
       "\n",
       "      internal_memory  ram  battery  weight  release_year  days_used  \\\n",
       "2942            128.0  4.0   3600.0   167.8          2016        618   \n",
       "2410             32.0  4.0   2450.0   147.0          2016        835   \n",
       "2627             32.0  4.0   1500.0   127.0          2016        843   \n",
       "1566             64.0  4.0   3340.0   160.0          2016        686   \n",
       "2166             16.0  4.0   2500.0   154.0          2015       1052   \n",
       "\n",
       "      normalized_used_price  \n",
       "2942               4.879767  \n",
       "2410               4.005878  \n",
       "2627               3.592093  \n",
       "1566               4.986206  \n",
       "2166               3.684118  "
      ]
     },
     "execution_count": 10,
     "metadata": {},
     "output_type": "execute_result"
    }
   ],
   "source": [
    "X_test.head()"
   ]
  },
  {
   "cell_type": "code",
   "execution_count": 11,
   "id": "e89aff68-e48e-488b-96ec-e203f57e78ab",
   "metadata": {},
   "outputs": [
    {
     "data": {
      "text/plain": [
       "2942    More_than_60k\n",
       "2410    More_than_60k\n",
       "2627    Less_than_40k\n",
       "1566    More_than_60k\n",
       "2166    Less_than_40k\n",
       "Name: new_price, dtype: object"
      ]
     },
     "execution_count": 11,
     "metadata": {},
     "output_type": "execute_result"
    }
   ],
   "source": [
    "y_test.head()"
   ]
  },
  {
   "cell_type": "code",
   "execution_count": 12,
   "id": "5052d55d-467f-4c94-a2c2-c8d4be54aa06",
   "metadata": {},
   "outputs": [],
   "source": [
    "from sklearn.svm import SVC"
   ]
  },
  {
   "cell_type": "code",
   "execution_count": 13,
   "id": "765952a3-8e79-46fc-9c5b-4c234caed54f",
   "metadata": {},
   "outputs": [],
   "source": [
    "svm = SVC()"
   ]
  },
  {
   "cell_type": "code",
   "execution_count": 14,
   "id": "bb743948-ead3-433c-af75-72bc9828a8d0",
   "metadata": {},
   "outputs": [
    {
     "data": {
      "text/plain": [
       "SVC()"
      ]
     },
     "execution_count": 14,
     "metadata": {},
     "output_type": "execute_result"
    }
   ],
   "source": [
    "svm.fit(X_train,y_train)"
   ]
  },
  {
   "cell_type": "code",
   "execution_count": 15,
   "id": "fa849adf-5a46-41a6-aaf2-8d35972d1a3c",
   "metadata": {},
   "outputs": [],
   "source": [
    "svm_pred= svm.predict(X_test)"
   ]
  },
  {
   "cell_type": "code",
   "execution_count": 16,
   "id": "e4b9c436-9ee9-460b-8309-172a55b45ee6",
   "metadata": {},
   "outputs": [],
   "source": [
    "from sklearn.metrics import confusion_matrix "
   ]
  },
  {
   "cell_type": "code",
   "execution_count": 17,
   "id": "410b6636-51c6-4471-9956-e6c6a6c74f27",
   "metadata": {},
   "outputs": [
    {
     "data": {
      "text/plain": [
       "array([[335,   3,   8],\n",
       "       [100,  33,   0],\n",
       "       [167,   1,  17]], dtype=int64)"
      ]
     },
     "execution_count": 17,
     "metadata": {},
     "output_type": "execute_result"
    }
   ],
   "source": [
    "cm = confusion_matrix(y_test, svm_pred)\n",
    "cm"
   ]
  },
  {
   "cell_type": "code",
   "execution_count": 18,
   "id": "4c1e9bf9-5a35-4886-b1fd-393dd402132b",
   "metadata": {},
   "outputs": [
    {
     "data": {
      "image/png": "[encoded data removed]",
      "text/plain": [
       "<Figure size 1500x800 with 2 Axes>"
      ]
     },
     "metadata": {},
     "output_type": "display_data"
    }
   ],
   "source": [
    "plt.figure(figsize = (15,8))\n",
    "sns.heatmap(cm, annot = True, fmt = 'd', cmap = \"Blues\")\n",
    "plt.xlabel(\"Predicted Price\")\n",
    "plt.ylabel(\"Actual Price\")\n",
    "plt.show()"
   ]
  },
  {
   "cell_type": "code",
   "execution_count": 19,
   "id": "6e79941f-ffb4-4114-8fee-4d7865230022",
   "metadata": {},
   "outputs": [],
   "source": [
    "from sklearn.metrics import accuracy_score"
   ]
  },
  {
   "cell_type": "code",
   "execution_count": 20,
   "id": "13db64cd-ffba-47d5-be5f-78ab1bd3e804",
   "metadata": {},
   "outputs": [
    {
     "data": {
      "text/plain": [
       "0.5798192771084337"
      ]
     },
     "execution_count": 20,
     "metadata": {},
     "output_type": "execute_result"
    }
   ],
   "source": [
    "accuracy_score(y_test, svm_pred)"
   ]
  },
  {
   "cell_type": "code",
   "execution_count": 21,
   "id": "08b7019c-2e7a-43fc-8d69-563046dffffa",
   "metadata": {},
   "outputs": [],
   "source": [
    "#Tuning the C parameters"
   ]
  },
  {
   "cell_type": "code",
   "execution_count": 22,
   "id": "3e70b09d-e15f-46e0-9beb-bf5612da41ab",
   "metadata": {},
   "outputs": [],
   "source": [
    "svm = SVC(kernel = 'rbf', C = 150)"
   ]
  },
  {
   "cell_type": "code",
   "execution_count": 23,
   "id": "abff4fa0-63f8-4d58-998a-81283894b8f4",
   "metadata": {},
   "outputs": [
    {
     "data": {
      "text/plain": [
       "SVC(C=150)"
      ]
     },
     "execution_count": 23,
     "metadata": {},
     "output_type": "execute_result"
    }
   ],
   "source": [
    "svm.fit(X_train, y_train)"
   ]
  },
  {
   "cell_type": "code",
   "execution_count": 24,
   "id": "4a5ee3c1-5980-40f1-8393-37d13eafb957",
   "metadata": {},
   "outputs": [],
   "source": [
    "svm_pred_1 = svm.predict(X_test)"
   ]
  },
  {
   "cell_type": "code",
   "execution_count": 25,
   "id": "418283ba-1f8f-4948-b674-82aca9deb7d9",
   "metadata": {},
   "outputs": [
    {
     "data": {
      "text/plain": [
       "array([[315,   4,  27],\n",
       "       [ 99,  33,   1],\n",
       "       [116,   1,  68]], dtype=int64)"
      ]
     },
     "execution_count": 25,
     "metadata": {},
     "output_type": "execute_result"
    }
   ],
   "source": [
    "cm = confusion_matrix(y_test, svm_pred_1)\n",
    "cm"
   ]
  },
  {
   "cell_type": "code",
   "execution_count": 26,
   "id": "13600f5a-067b-4b6b-9e78-eb65fd928e4a",
   "metadata": {},
   "outputs": [
    {
     "data": {
      "image/png": "[encoded data removed]",
      "text/plain": [
       "<Figure size 1500x800 with 2 Axes>"
      ]
     },
     "metadata": {},
     "output_type": "display_data"
    }
   ],
   "source": [
    "plt.figure(figsize = (15,8))\n",
    "sns.heatmap(cm, annot = True, fmt = 'd', cmap = \"Blues\")\n",
    "plt.xlabel(\"Predicted Price\")\n",
    "plt.ylabel(\"Actual Price\")\n",
    "plt.show()"
   ]
  },
  {
   "cell_type": "code",
   "execution_count": 27,
   "id": "e0395431-7104-4b27-b002-262126d2403f",
   "metadata": {},
   "outputs": [
    {
     "data": {
      "text/plain": [
       "0.6265060240963856"
      ]
     },
     "execution_count": 27,
     "metadata": {},
     "output_type": "execute_result"
    }
   ],
   "source": [
    "accuracy_score(y_test, svm_pred_1)"
   ]
  },
  {
   "cell_type": "code",
   "execution_count": 28,
   "id": "1162dda8-6d74-4080-88ad-c510f25d749b",
   "metadata": {},
   "outputs": [],
   "source": [
    "svm = SVC(kernel = 'rbf', C = 200)"
   ]
  },
  {
   "cell_type": "code",
   "execution_count": 29,
   "id": "9d345464-aa8d-46b4-8986-9b581ec13249",
   "metadata": {},
   "outputs": [
    {
     "data": {
      "text/plain": [
       "SVC(C=200)"
      ]
     },
     "execution_count": 29,
     "metadata": {},
     "output_type": "execute_result"
    }
   ],
   "source": [
    "svm.fit(X_train,y_train)"
   ]
  },
  {
   "cell_type": "code",
   "execution_count": 30,
   "id": "7fd011ff-cfcb-45c8-b9e0-eb0aab6fe3ea",
   "metadata": {},
   "outputs": [],
   "source": [
    "svm_pred_2 = svm.predict(X_test)"
   ]
  },
  {
   "cell_type": "code",
   "execution_count": 31,
   "id": "b0239a97-727f-4fd4-b98b-33cba726dcb6",
   "metadata": {},
   "outputs": [
    {
     "data": {
      "text/plain": [
       "array([[314,   4,  28],\n",
       "       [100,  32,   1],\n",
       "       [115,   1,  69]], dtype=int64)"
      ]
     },
     "execution_count": 31,
     "metadata": {},
     "output_type": "execute_result"
    }
   ],
   "source": [
    "cm = confusion_matrix(y_test, svm_pred_2)\n",
    "cm"
   ]
  },
  {
   "cell_type": "code",
   "execution_count": 32,
   "id": "36a157c8-7448-4a80-a953-47ea9c909fae",
   "metadata": {},
   "outputs": [
    {
     "data": {
      "image/png": "[encoded data removed]",
      "text/plain": [
       "<Figure size 1500x800 with 2 Axes>"
      ]
     },
     "metadata": {},
     "output_type": "display_data"
    }
   ],
   "source": [
    "plt.figure(figsize = (15,8))\n",
    "sns.heatmap(cm, annot = True, fmt = 'd', cmap = \"Blues\")\n",
    "plt.xlabel(\"Predicted Price\")\n",
    "plt.ylabel(\"Actual Price\")\n",
    "plt.show()"
   ]
  },
  {
   "cell_type": "code",
   "execution_count": 33,
   "id": "2dcdd0e1-22ec-437f-8245-51e02623f76a",
   "metadata": {},
   "outputs": [
    {
     "data": {
      "text/plain": [
       "0.625"
      ]
     },
     "execution_count": 33,
     "metadata": {},
     "output_type": "execute_result"
    }
   ],
   "source": [
    "accuracy_score(y_test, svm_pred_2)"
   ]
  },
  {
   "cell_type": "code",
   "execution_count": 34,
   "id": "1b902281-4d32-4ae9-9722-952fd9c13716",
   "metadata": {},
   "outputs": [],
   "source": [
    "#Polynomial Kernal"
   ]
  },
  {
   "cell_type": "code",
   "execution_count": 35,
   "id": "ffdc52cd-18e1-495b-adef-e076c4d0d61b",
   "metadata": {},
   "outputs": [],
   "source": [
    "svm_poly = SVC(kernel = 'poly')"
   ]
  },
  {
   "cell_type": "code",
   "execution_count": 36,
   "id": "db1f19bd-a7bf-4129-8c95-b170d4f71f51",
   "metadata": {},
   "outputs": [
    {
     "data": {
      "text/plain": [
       "SVC(kernel='poly')"
      ]
     },
     "execution_count": 36,
     "metadata": {},
     "output_type": "execute_result"
    }
   ],
   "source": [
    "svm_poly.fit(X_train,y_train)"
   ]
  },
  {
   "cell_type": "code",
   "execution_count": 37,
   "id": "4d8923d0-df0e-4ac8-9f53-5f4f81a32d14",
   "metadata": {},
   "outputs": [],
   "source": [
    "svm_poly_pred = svm.predict(X_test)"
   ]
  },
  {
   "cell_type": "code",
   "execution_count": 38,
   "id": "fc3de811-5bbb-48bc-891a-715d8f9df8ea",
   "metadata": {},
   "outputs": [
    {
     "data": {
      "text/plain": [
       "array([[314,   4,  28],\n",
       "       [100,  32,   1],\n",
       "       [115,   1,  69]], dtype=int64)"
      ]
     },
     "execution_count": 38,
     "metadata": {},
     "output_type": "execute_result"
    }
   ],
   "source": [
    "cm = confusion_matrix(y_test, svm_poly_pred)\n",
    "cm"
   ]
  },
  {
   "cell_type": "code",
   "execution_count": 39,
   "id": "25d89b3d-abae-4686-a2d7-b5655602c969",
   "metadata": {},
   "outputs": [
    {
     "data": {
      "image/png": "[encoded data removed]",
      "text/plain": [
       "<Figure size 1500x800 with 2 Axes>"
      ]
     },
     "metadata": {},
     "output_type": "display_data"
    }
   ],
   "source": [
    "plt.figure(figsize = (15,8))\n",
    "sns.heatmap(cm, annot = True, fmt = 'd', cmap = \"Blues\")\n",
    "plt.xlabel(\"Predicted Price\")\n",
    "plt.ylabel(\"Actual Price\")\n",
    "plt.show()"
   ]
  },
  {
   "cell_type": "code",
   "execution_count": 40,
   "id": "92f0bca7-6d73-4449-bf58-474648089564",
   "metadata": {},
   "outputs": [
    {
     "data": {
      "text/plain": [
       "0.625"
      ]
     },
     "execution_count": 40,
     "metadata": {},
     "output_type": "execute_result"
    }
   ],
   "source": [
    "accuracy_score(y_test, svm_poly_pred)"
   ]
  },
  {
   "cell_type": "code",
   "execution_count": 41,
   "id": "54843d17-c17b-4693-ac7a-2fd274892a70",
   "metadata": {},
   "outputs": [],
   "source": [
    "svm_poly = SVC(kernel = 'poly', C = 125)"
   ]
  },
  {
   "cell_type": "code",
   "execution_count": 42,
   "id": "e706fd89-9ef9-42ce-8c33-5c0afac79bea",
   "metadata": {},
   "outputs": [
    {
     "data": {
      "text/plain": [
       "SVC(C=125, kernel='poly')"
      ]
     },
     "execution_count": 42,
     "metadata": {},
     "output_type": "execute_result"
    }
   ],
   "source": [
    "svm_poly.fit(X_train,y_train)"
   ]
  },
  {
   "cell_type": "code",
   "execution_count": 43,
   "id": "b1ca8584-0eb4-472c-9c5f-8e204df18eaf",
   "metadata": {},
   "outputs": [],
   "source": [
    "svm_poly_pred_1 = svm_poly.predict(X_test)"
   ]
  },
  {
   "cell_type": "code",
   "execution_count": 44,
   "id": "ea93db42-c5e6-489e-b492-1848701c8fa0",
   "metadata": {},
   "outputs": [
    {
     "data": {
      "text/plain": [
       "array([[308,   8,  30],\n",
       "       [ 98,  34,   1],\n",
       "       [119,   1,  65]], dtype=int64)"
      ]
     },
     "execution_count": 44,
     "metadata": {},
     "output_type": "execute_result"
    }
   ],
   "source": [
    "cm = confusion_matrix(y_test, svm_poly_pred_1)\n",
    "cm"
   ]
  },
  {
   "cell_type": "code",
   "execution_count": 45,
   "id": "c35d31e3-e5bc-4026-a3fb-0c9da840ab76",
   "metadata": {},
   "outputs": [
    {
     "data": {
      "image/png": "[encoded data removed]",
      "text/plain": [
       "<Figure size 1500x800 with 2 Axes>"
      ]
     },
     "metadata": {},
     "output_type": "display_data"
    }
   ],
   "source": [
    "plt.figure(figsize = (15,8))\n",
    "sns.heatmap(cm, annot = True, fmt = 'd', cmap = \"Blues\")\n",
    "plt.xlabel(\"Predicted Price\")\n",
    "plt.ylabel(\"Actual Price\")\n",
    "plt.show()"
   ]
  },
  {
   "cell_type": "code",
   "execution_count": 46,
   "id": "f2959569-d4c2-42f2-9662-195bd445e35d",
   "metadata": {},
   "outputs": [
    {
     "data": {
      "text/plain": [
       "0.6129518072289156"
      ]
     },
     "execution_count": 46,
     "metadata": {},
     "output_type": "execute_result"
    }
   ],
   "source": [
    "accuracy_score(y_test, svm_poly_pred_1)"
   ]
  },
  {
   "cell_type": "code",
   "execution_count": 47,
   "id": "06aba57f-44e4-4867-b7ab-38aeff6d94b4",
   "metadata": {},
   "outputs": [],
   "source": [
    "svm_poly = SVC(kernel = 'poly', C = 340)"
   ]
  },
  {
   "cell_type": "code",
   "execution_count": 48,
   "id": "7d5423d9-af73-4f02-a454-ad35073b0c56",
   "metadata": {},
   "outputs": [
    {
     "data": {
      "text/plain": [
       "SVC(C=340, kernel='poly')"
      ]
     },
     "execution_count": 48,
     "metadata": {},
     "output_type": "execute_result"
    }
   ],
   "source": [
    "svm_poly.fit(X_train,y_train)"
   ]
  },
  {
   "cell_type": "code",
   "execution_count": 49,
   "id": "ba524e2c-457a-4382-b227-93e24d977ba6",
   "metadata": {},
   "outputs": [],
   "source": [
    "svm_poly_pred_2 = svm_poly.predict(X_test)"
   ]
  },
  {
   "cell_type": "code",
   "execution_count": 50,
   "id": "55df549e-fab1-4ab9-8155-daa87f5d7651",
   "metadata": {},
   "outputs": [],
   "source": [
    "cm = confusion_matrix(y_test, svm_poly_pred_2)"
   ]
  },
  {
   "cell_type": "code",
   "execution_count": 51,
   "id": "d32fa1f6-d9f4-4675-98be-ba371b2c3a21",
   "metadata": {},
   "outputs": [
    {
     "data": {
      "image/png": "[encoded data removed]",
      "text/plain": [
       "<Figure size 1500x800 with 2 Axes>"
      ]
     },
     "metadata": {},
     "output_type": "display_data"
    }
   ],
   "source": [
    "plt.figure(figsize = (15,8))\n",
    "sns.heatmap(cm, annot = True, fmt = 'd', cmap = \"Blues\")\n",
    "plt.xlabel(\"Predicted Price\")\n",
    "plt.ylabel(\"Actual Price\")\n",
    "plt.show()"
   ]
  },
  {
   "cell_type": "code",
   "execution_count": 52,
   "id": "c41e45e3-4477-491d-b98e-41a15a1d53c5",
   "metadata": {},
   "outputs": [
    {
     "data": {
      "text/plain": [
       "0.6114457831325302"
      ]
     },
     "execution_count": 52,
     "metadata": {},
     "output_type": "execute_result"
    }
   ],
   "source": [
    "accuracy_score(y_test, svm_poly_pred_2)"
   ]
  },
  {
   "cell_type": "code",
   "execution_count": 53,
   "id": "b1695322-2594-4c17-9fe0-4d88179f9f44",
   "metadata": {},
   "outputs": [],
   "source": [
    "#Linear Kernal"
   ]
  },
  {
   "cell_type": "code",
   "execution_count": 54,
   "id": "ee2328e6-d639-4049-8dd1-f7a9e3a8bcd9",
   "metadata": {},
   "outputs": [],
   "source": [
    "svm_lin = SVC(kernel = \"linear\")"
   ]
  },
  {
   "cell_type": "code",
   "execution_count": 55,
   "id": "6999c423-398b-4d71-8391-9892e3346188",
   "metadata": {},
   "outputs": [
    {
     "data": {
      "text/plain": [
       "SVC(kernel='linear')"
      ]
     },
     "execution_count": 55,
     "metadata": {},
     "output_type": "execute_result"
    }
   ],
   "source": [
    "svm_lin.fit(X_train,y_train)"
   ]
  },
  {
   "cell_type": "code",
   "execution_count": 56,
   "id": "efe6fe51-0f0d-4b40-a3e0-0e302d344ffe",
   "metadata": {},
   "outputs": [],
   "source": [
    "y_pred_lin = svm_lin.predict(X_test)"
   ]
  },
  {
   "cell_type": "code",
   "execution_count": 57,
   "id": "22d90641-a608-442e-9394-4f78b35f3ee6",
   "metadata": {},
   "outputs": [],
   "source": [
    "cm = confusion_matrix(y_test, y_pred_lin)"
   ]
  },
  {
   "cell_type": "code",
   "execution_count": 58,
   "id": "565b49d9-37fd-4ec9-b3ae-983c0e66b207",
   "metadata": {
    "scrolled": true
   },
   "outputs": [
    {
     "data": {
      "image/png": "[encoded data removed]",
      "text/plain": [
       "<Figure size 1500x800 with 2 Axes>"
      ]
     },
     "metadata": {},
     "output_type": "display_data"
    }
   ],
   "source": [
    "plt.figure(figsize = (15,8))\n",
    "sns.heatmap(cm, annot = True, fmt = 'd', cmap = \"Blues\")\n",
    "plt.xlabel(\"Predicted Price\")\n",
    "plt.ylabel(\"Actual Price\")\n",
    "plt.show()"
   ]
  },
  {
   "cell_type": "code",
   "execution_count": 59,
   "id": "fdd580c4-41f5-49a6-9949-3c99d86448f4",
   "metadata": {},
   "outputs": [
    {
     "data": {
      "text/plain": [
       "0.6641566265060241"
      ]
     },
     "execution_count": 59,
     "metadata": {},
     "output_type": "execute_result"
    }
   ],
   "source": [
    "accuracy_score(y_test, y_pred_lin)"
   ]
  },
  {
   "cell_type": "code",
   "execution_count": 72,
   "id": "c9639244-8040-481b-97c2-cc3699f1a186",
   "metadata": {},
   "outputs": [],
   "source": [
    "svm_lin = SVC(kernel = \"linear\", C = 10)"
   ]
  },
  {
   "cell_type": "code",
   "execution_count": 61,
   "id": "86d38bef-6b9d-446a-a001-a3aa5e012254",
   "metadata": {},
   "outputs": [
    {
     "data": {
      "text/plain": [
       "SVC(C=85, kernel='linear')"
      ]
     },
     "execution_count": 61,
     "metadata": {},
     "output_type": "execute_result"
    }
   ],
   "source": [
    "svm_lin.fit(X_train,y_train)"
   ]
  },
  {
   "cell_type": "code",
   "execution_count": 62,
   "id": "d0238941-b64a-4e76-a4e4-e6645f4e2578",
   "metadata": {},
   "outputs": [],
   "source": [
    "y_pred_lin1 = svm_lin.predict(X_test)"
   ]
  },
  {
   "cell_type": "code",
   "execution_count": 63,
   "id": "401ad58e-de67-4b8f-af2f-da4373c2d800",
   "metadata": {},
   "outputs": [
    {
     "data": {
      "text/plain": [
       "array([[285,  16,  45],\n",
       "       [ 69,  63,   1],\n",
       "       [ 96,   1,  88]], dtype=int64)"
      ]
     },
     "execution_count": 63,
     "metadata": {},
     "output_type": "execute_result"
    }
   ],
   "source": [
    "cm = confusion_matrix(y_test, y_pred_lin1)\n",
    "cm"
   ]
  },
  {
   "cell_type": "code",
   "execution_count": 64,
   "id": "52761b1d-1ea6-4233-851f-b787393b063d",
   "metadata": {},
   "outputs": [
    {
     "data": {
      "image/png": "[encoded data removed]",
      "text/plain": [
       "<Figure size 1500x800 with 2 Axes>"
      ]
     },
     "metadata": {},
     "output_type": "display_data"
    }
   ],
   "source": [
    "plt.figure(figsize = (15,8))\n",
    "sns.heatmap(cm, annot = True, fmt = 'd', cmap = \"Blues\")\n",
    "plt.xlabel(\"Predicted Price\")\n",
    "plt.ylabel(\"Actual Price\")\n",
    "plt.show()"
   ]
  },
  {
   "cell_type": "code",
   "execution_count": 65,
   "id": "afcb8d69-2201-423b-a7b3-4826004a5ffb",
   "metadata": {},
   "outputs": [
    {
     "data": {
      "text/plain": [
       "0.6641566265060241"
      ]
     },
     "execution_count": 65,
     "metadata": {},
     "output_type": "execute_result"
    }
   ],
   "source": [
    "accuracy_score(y_test, y_pred_lin)"
   ]
  },
  {
   "cell_type": "code",
   "execution_count": 66,
   "id": "c6250ac1-bd62-4ffe-8328-7bfed015373f",
   "metadata": {},
   "outputs": [],
   "source": [
    "svm_lin = SVC(kernel = \"linear\", C = 367)"
   ]
  },
  {
   "cell_type": "code",
   "execution_count": 67,
   "id": "5dcb2fa7-4b2c-4f35-a82e-a14de36a69f0",
   "metadata": {},
   "outputs": [
    {
     "data": {
      "text/plain": [
       "SVC(C=367, kernel='linear')"
      ]
     },
     "execution_count": 67,
     "metadata": {},
     "output_type": "execute_result"
    }
   ],
   "source": [
    "svm_lin.fit(X_train,y_train)"
   ]
  },
  {
   "cell_type": "code",
   "execution_count": 68,
   "id": "05c25b26-0dba-4538-aacf-a717875e43b0",
   "metadata": {},
   "outputs": [],
   "source": [
    "y_pred_lin2 = svm_lin.predict(X_test)"
   ]
  },
  {
   "cell_type": "code",
   "execution_count": 69,
   "id": "bd85c1cc-4afc-48a1-ba8c-260b7038bc58",
   "metadata": {},
   "outputs": [
    {
     "data": {
      "text/plain": [
       "array([[283,  22,  41],\n",
       "       [ 62,  70,   1],\n",
       "       [ 93,   2,  90]], dtype=int64)"
      ]
     },
     "execution_count": 69,
     "metadata": {},
     "output_type": "execute_result"
    }
   ],
   "source": [
    "cm = confusion_matrix(y_test, y_pred_lin2)\n",
    "cm"
   ]
  },
  {
   "cell_type": "code",
   "execution_count": 70,
   "id": "4c76e58f-8020-4573-a75d-c206e4f2e920",
   "metadata": {},
   "outputs": [
    {
     "data": {
      "text/plain": [
       "0.6641566265060241"
      ]
     },
     "execution_count": 70,
     "metadata": {},
     "output_type": "execute_result"
    }
   ],
   "source": [
    "accuracy_score(y_test, y_pred_lin)"
   ]
  },
  {
   "cell_type": "code",
   "execution_count": 73,
   "id": "d340fedb-fdc2-410f-9627-6678c851fbcd",
   "metadata": {},
   "outputs": [],
   "source": [
    "df.to_csv('SVM.csv')"
   ]
  },
  {
   "cell_type": "code",
   "execution_count": 74,
   "id": "14dd566c",
   "metadata": {},
   "outputs": [],
   "source": [
    "train_df.to_csv('SVM_training.csv')"
   ]
  },
  {
   "cell_type": "code",
   "execution_count": 75,
   "id": "205368c8",
   "metadata": {},
   "outputs": [],
   "source": [
    "test_df.to_csv('SVM_test.csv')"
   ]
  },
  {
   "cell_type": "code",
   "execution_count": null,
   "id": "604a5f39",
   "metadata": {},
   "outputs": [],
   "source": []
  },
  {
   "cell_type": "code",
   "execution_count": null,
   "id": "4ec1d29d",
   "metadata": {},
   "outputs": [],
   "source": []
  }
 ],
 "metadata": {
  "kernelspec": {
   "display_name": "Python 3 (ipykernel)",
   "language": "python",
   "name": "python3"
  },
  "language_info": {
   "codemirror_mode": {
    "name": "ipython",
    "version": 3
   },
   "file_extension": ".py",
   "mimetype": "text/x-python",
   "name": "python",
   "nbconvert_exporter": "python",
   "pygments_lexer": "ipython3",
   "version": "3.9.13"
  }
 },
 "nbformat": 4,
 "nbformat_minor": 5
}
