{
 "cells": [
  {
   "cell_type": "code",
   "execution_count": 1,
   "id": "af8be330",
   "metadata": {},
   "outputs": [],
   "source": [
    "import pandas as pd\n",
    "import seaborn as sns\n",
    "import numpy as np\n",
    "import matplotlib.pyplot as plt"
   ]
  },
  {
   "cell_type": "code",
   "execution_count": 2,
   "id": "bdd60c00",
   "metadata": {},
   "outputs": [],
   "source": [
    "df = pd.read_csv('cropdataset (1).csv')\n",
    "df_2 = pd.read_csv('cropdataset (1).csv')"
   ]
  },
  {
   "cell_type": "code",
   "execution_count": 3,
   "id": "0e62a6dc",
   "metadata": {},
   "outputs": [
    {
     "data": {
      "text/html": [
       "<div>\n",
       "<style scoped>\n",
       "    .dataframe tbody tr th:only-of-type {\n",
       "        vertical-align: middle;\n",
       "    }\n",
       "\n",
       "    .dataframe tbody tr th {\n",
       "        vertical-align: top;\n",
       "    }\n",
       "\n",
       "    .dataframe thead th {\n",
       "        text-align: right;\n",
       "    }\n",
       "</style>\n",
       "<table border=\"1\" class=\"dataframe\">\n",
       "  <thead>\n",
       "    <tr style=\"text-align: right;\">\n",
       "      <th></th>\n",
       "      <th>DYear</th>\n",
       "      <th>Rainfall</th>\n",
       "      <th>Region</th>\n",
       "      <th>Area</th>\n",
       "      <th>Lattitude</th>\n",
       "      <th>Longitude</th>\n",
       "      <th>Humidity</th>\n",
       "      <th>Min_Temperature</th>\n",
       "      <th>Max_Temperature</th>\n",
       "      <th>Min_Ph</th>\n",
       "      <th>...</th>\n",
       "      <th>Sowing</th>\n",
       "      <th>Others</th>\n",
       "      <th>Investment</th>\n",
       "      <th>Yield</th>\n",
       "      <th>MarketPrice</th>\n",
       "      <th>TotalValue</th>\n",
       "      <th>Profit</th>\n",
       "      <th>Seeds</th>\n",
       "      <th>PerAcre</th>\n",
       "      <th>TTMarket</th>\n",
       "    </tr>\n",
       "  </thead>\n",
       "  <tbody>\n",
       "    <tr>\n",
       "      <th>0</th>\n",
       "      <td>2010</td>\n",
       "      <td>993.0</td>\n",
       "      <td>Mysore</td>\n",
       "      <td>T Narasipura</td>\n",
       "      <td>12.2110</td>\n",
       "      <td>76.9038</td>\n",
       "      <td>80-90%</td>\n",
       "      <td>26</td>\n",
       "      <td>34</td>\n",
       "      <td>6.2</td>\n",
       "      <td>...</td>\n",
       "      <td>10219.0</td>\n",
       "      <td>3564.0</td>\n",
       "      <td>13783.0</td>\n",
       "      <td>14.7</td>\n",
       "      <td>5604.0</td>\n",
       "      <td>82378.8</td>\n",
       "      <td>68595.8</td>\n",
       "      <td>80-100 Kilograms</td>\n",
       "      <td>6</td>\n",
       "      <td>3</td>\n",
       "    </tr>\n",
       "    <tr>\n",
       "      <th>1</th>\n",
       "      <td>2010</td>\n",
       "      <td>958.0</td>\n",
       "      <td>Mysore</td>\n",
       "      <td>Nanjangud</td>\n",
       "      <td>12.1160</td>\n",
       "      <td>76.6782</td>\n",
       "      <td>80-90%</td>\n",
       "      <td>26</td>\n",
       "      <td>34</td>\n",
       "      <td>6.2</td>\n",
       "      <td>...</td>\n",
       "      <td>10272.0</td>\n",
       "      <td>3678.0</td>\n",
       "      <td>13950.0</td>\n",
       "      <td>14.5</td>\n",
       "      <td>6019.0</td>\n",
       "      <td>87275.5</td>\n",
       "      <td>73325.5</td>\n",
       "      <td>80-100 Kilograms</td>\n",
       "      <td>5</td>\n",
       "      <td>3</td>\n",
       "    </tr>\n",
       "    <tr>\n",
       "      <th>2</th>\n",
       "      <td>2010</td>\n",
       "      <td>1150.0</td>\n",
       "      <td>Mysore</td>\n",
       "      <td>Hunsur</td>\n",
       "      <td>12.3091</td>\n",
       "      <td>76.2833</td>\n",
       "      <td>80-90%</td>\n",
       "      <td>26</td>\n",
       "      <td>34</td>\n",
       "      <td>6.2</td>\n",
       "      <td>...</td>\n",
       "      <td>9506.0</td>\n",
       "      <td>3513.0</td>\n",
       "      <td>13019.0</td>\n",
       "      <td>13.1</td>\n",
       "      <td>6027.0</td>\n",
       "      <td>78953.7</td>\n",
       "      <td>65934.7</td>\n",
       "      <td>80-100 Kilograms</td>\n",
       "      <td>6</td>\n",
       "      <td>2</td>\n",
       "    </tr>\n",
       "    <tr>\n",
       "      <th>3</th>\n",
       "      <td>2010</td>\n",
       "      <td>1269.0</td>\n",
       "      <td>Mysore</td>\n",
       "      <td>K R Nagara</td>\n",
       "      <td>12.4400</td>\n",
       "      <td>76.3811</td>\n",
       "      <td>80-90%</td>\n",
       "      <td>26</td>\n",
       "      <td>34</td>\n",
       "      <td>6.2</td>\n",
       "      <td>...</td>\n",
       "      <td>10455.0</td>\n",
       "      <td>3567.0</td>\n",
       "      <td>14022.0</td>\n",
       "      <td>13.4</td>\n",
       "      <td>5281.0</td>\n",
       "      <td>70765.4</td>\n",
       "      <td>56743.4</td>\n",
       "      <td>80-100 Kilograms</td>\n",
       "      <td>4</td>\n",
       "      <td>2</td>\n",
       "    </tr>\n",
       "    <tr>\n",
       "      <th>4</th>\n",
       "      <td>2010</td>\n",
       "      <td>1117.0</td>\n",
       "      <td>Mysore</td>\n",
       "      <td>T Narasipura</td>\n",
       "      <td>12.2110</td>\n",
       "      <td>76.9038</td>\n",
       "      <td>80-90%</td>\n",
       "      <td>26</td>\n",
       "      <td>34</td>\n",
       "      <td>6.2</td>\n",
       "      <td>...</td>\n",
       "      <td>9341.0</td>\n",
       "      <td>3772.0</td>\n",
       "      <td>13113.0</td>\n",
       "      <td>14.6</td>\n",
       "      <td>6084.0</td>\n",
       "      <td>88826.4</td>\n",
       "      <td>75713.4</td>\n",
       "      <td>80-100 Kilograms</td>\n",
       "      <td>6</td>\n",
       "      <td>3</td>\n",
       "    </tr>\n",
       "  </tbody>\n",
       "</table>\n",
       "<p>5 rows × 24 columns</p>\n",
       "</div>"
      ],
      "text/plain": [
       "   DYear  Rainfall  Region          Area  Lattitude  Longitude Humidity  \\\n",
       "0   2010     993.0  Mysore  T Narasipura    12.2110    76.9038   80-90%   \n",
       "1   2010     958.0  Mysore     Nanjangud    12.1160    76.6782   80-90%   \n",
       "2   2010    1150.0  Mysore        Hunsur    12.3091    76.2833   80-90%   \n",
       "3   2010    1269.0  Mysore    K R Nagara    12.4400    76.3811   80-90%   \n",
       "4   2010    1117.0  Mysore  T Narasipura    12.2110    76.9038   80-90%   \n",
       "\n",
       "   Min_Temperature  Max_Temperature  Min_Ph  ...   Sowing  Others Investment  \\\n",
       "0               26               34     6.2  ...  10219.0  3564.0    13783.0   \n",
       "1               26               34     6.2  ...  10272.0  3678.0    13950.0   \n",
       "2               26               34     6.2  ...   9506.0  3513.0    13019.0   \n",
       "3               26               34     6.2  ...  10455.0  3567.0    14022.0   \n",
       "4               26               34     6.2  ...   9341.0  3772.0    13113.0   \n",
       "\n",
       "  Yield  MarketPrice  TotalValue   Profit             Seeds  PerAcre  TTMarket  \n",
       "0  14.7       5604.0     82378.8  68595.8  80-100 Kilograms        6         3  \n",
       "1  14.5       6019.0     87275.5  73325.5  80-100 Kilograms        5         3  \n",
       "2  13.1       6027.0     78953.7  65934.7  80-100 Kilograms        6         2  \n",
       "3  13.4       5281.0     70765.4  56743.4  80-100 Kilograms        4         2  \n",
       "4  14.6       6084.0     88826.4  75713.4  80-100 Kilograms        6         3  \n",
       "\n",
       "[5 rows x 24 columns]"
      ]
     },
     "execution_count": 3,
     "metadata": {},
     "output_type": "execute_result"
    }
   ],
   "source": [
    "df.head()"
   ]
  },
  {
   "cell_type": "code",
   "execution_count": 4,
   "id": "61862734",
   "metadata": {},
   "outputs": [
    {
     "name": "stdout",
     "output_type": "stream",
     "text": [
      "<class 'pandas.core.frame.DataFrame'>\n",
      "RangeIndex: 6131 entries, 0 to 6130\n",
      "Data columns (total 24 columns):\n",
      " #   Column           Non-Null Count  Dtype  \n",
      "---  ------           --------------  -----  \n",
      " 0   DYear            6131 non-null   int64  \n",
      " 1   Rainfall         6131 non-null   float64\n",
      " 2   Region           6131 non-null   object \n",
      " 3   Area             6131 non-null   object \n",
      " 4   Lattitude        6131 non-null   float64\n",
      " 5   Longitude        6131 non-null   float64\n",
      " 6   Humidity         6131 non-null   object \n",
      " 7   Min_Temperature  6131 non-null   int64  \n",
      " 8   Max_Temperature  6131 non-null   int64  \n",
      " 9   Min_Ph           6131 non-null   float64\n",
      " 10  Max_Ph           6131 non-null   float64\n",
      " 11  Fertilizer       6131 non-null   object \n",
      " 12  Crop             6131 non-null   object \n",
      " 13  Month            6131 non-null   object \n",
      " 14  Sowing           6131 non-null   float64\n",
      " 15  Others           6131 non-null   float64\n",
      " 16  Investment       6131 non-null   float64\n",
      " 17  Yield            6131 non-null   float64\n",
      " 18  MarketPrice      6131 non-null   float64\n",
      " 19  TotalValue       6131 non-null   float64\n",
      " 20  Profit           6131 non-null   float64\n",
      " 21  Seeds            6131 non-null   object \n",
      " 22  PerAcre          6131 non-null   int64  \n",
      " 23  TTMarket         6131 non-null   int64  \n",
      "dtypes: float64(12), int64(5), object(7)\n",
      "memory usage: 1.1+ MB\n"
     ]
    }
   ],
   "source": [
    "df.info()"
   ]
  },
  {
   "cell_type": "code",
   "execution_count": 5,
   "id": "79688558",
   "metadata": {},
   "outputs": [
    {
     "data": {
      "text/plain": [
       "DYear                20\n",
       "Rainfall           1121\n",
       "Region               29\n",
       "Area                202\n",
       "Lattitude            23\n",
       "Longitude           383\n",
       "Humidity              5\n",
       "Min_Temperature       7\n",
       "Max_Temperature       8\n",
       "Min_Ph                5\n",
       "Max_Ph                3\n",
       "Fertilizer          173\n",
       "Crop                 31\n",
       "Month                 5\n",
       "Sowing             3598\n",
       "Others             2993\n",
       "Investment         1175\n",
       "Yield               735\n",
       "MarketPrice         978\n",
       "TotalValue         3292\n",
       "Profit             3794\n",
       "Seeds                 4\n",
       "PerAcre               4\n",
       "TTMarket              2\n",
       "dtype: int64"
      ]
     },
     "execution_count": 5,
     "metadata": {},
     "output_type": "execute_result"
    }
   ],
   "source": [
    "df.nunique()\n",
    "# how many unique values we have in each column"
   ]
  },
  {
   "cell_type": "code",
   "execution_count": 6,
   "id": "597d3b81",
   "metadata": {},
   "outputs": [
    {
     "data": {
      "text/plain": [
       "364"
      ]
     },
     "execution_count": 6,
     "metadata": {},
     "output_type": "execute_result"
    }
   ],
   "source": [
    "sum(df.duplicated())\n",
    "# out of 6131 rows, 364 are duplicated "
   ]
  },
  {
   "cell_type": "code",
   "execution_count": 7,
   "id": "27041c7a",
   "metadata": {},
   "outputs": [],
   "source": [
    "# deleting those duplicated rows\n",
    "df.drop_duplicates(inplace = True)"
   ]
  },
  {
   "cell_type": "code",
   "execution_count": 8,
   "id": "21fa07aa",
   "metadata": {},
   "outputs": [
    {
     "data": {
      "text/plain": [
       "(5767, 24)"
      ]
     },
     "execution_count": 8,
     "metadata": {},
     "output_type": "execute_result"
    }
   ],
   "source": [
    "df.shape"
   ]
  },
  {
   "cell_type": "code",
   "execution_count": 9,
   "id": "90bdce0c",
   "metadata": {
    "scrolled": true
   },
   "outputs": [
    {
     "data": {
      "text/plain": [
       "DYear              0\n",
       "Rainfall           0\n",
       "Region             0\n",
       "Area               0\n",
       "Lattitude          0\n",
       "Longitude          0\n",
       "Humidity           0\n",
       "Min_Temperature    0\n",
       "Max_Temperature    0\n",
       "Min_Ph             0\n",
       "Max_Ph             0\n",
       "Fertilizer         0\n",
       "Crop               0\n",
       "Month              0\n",
       "Sowing             0\n",
       "Others             0\n",
       "Investment         0\n",
       "Yield              0\n",
       "MarketPrice        0\n",
       "TotalValue         0\n",
       "Profit             0\n",
       "Seeds              0\n",
       "PerAcre            0\n",
       "TTMarket           0\n",
       "dtype: int64"
      ]
     },
     "execution_count": 9,
     "metadata": {},
     "output_type": "execute_result"
    }
   ],
   "source": [
    "df.isnull().sum()\n",
    "# No null values"
   ]
  },
  {
   "cell_type": "code",
   "execution_count": 10,
   "id": "b7f7a7b1",
   "metadata": {},
   "outputs": [
    {
     "data": {
      "text/plain": [
       "DYear                                                           2010\n",
       "Rainfall                                                       993.0\n",
       "Region                                                        Mysore\n",
       "Area                                                    T Narasipura\n",
       "Lattitude                                                     12.211\n",
       "Longitude                                                    76.9038\n",
       "Humidity                                                      80-90%\n",
       "Min_Temperature                                                   26\n",
       "Max_Temperature                                                   34\n",
       "Min_Ph                                                           6.2\n",
       "Max_Ph                                                           7.3\n",
       "Fertilizer         200g of urea 200g of rock phosphate and 230 g ...\n",
       "Crop                                                       Groundnut\n",
       "Month                                                           June\n",
       "Sowing                                                       10219.0\n",
       "Others                                                        3564.0\n",
       "Investment                                                   13783.0\n",
       "Yield                                                           14.7\n",
       "MarketPrice                                                   5604.0\n",
       "TotalValue                                                   82378.8\n",
       "Profit                                                       68595.8\n",
       "Seeds                                               80-100 Kilograms\n",
       "PerAcre                                                            6\n",
       "TTMarket                                                           3\n",
       "Name: 0, dtype: object"
      ]
     },
     "execution_count": 10,
     "metadata": {},
     "output_type": "execute_result"
    }
   ],
   "source": [
    "# just looking at the attributes \n",
    "df.iloc[0]"
   ]
  },
  {
   "cell_type": "code",
   "execution_count": 11,
   "id": "18f9cf61",
   "metadata": {},
   "outputs": [
    {
     "data": {
      "text/plain": [
       "['Region', 'Area', 'Humidity', 'Fertilizer', 'Crop', 'Month', 'Seeds']"
      ]
     },
     "execution_count": 11,
     "metadata": {},
     "output_type": "execute_result"
    }
   ],
   "source": [
    "categoricals = list(df.select_dtypes(['object']).columns) \n",
    "categoricals"
   ]
  },
  {
   "cell_type": "code",
   "execution_count": 12,
   "id": "e19f67a6",
   "metadata": {},
   "outputs": [
    {
     "data": {
      "text/plain": [
       "['Region',\n",
       " 'Area',\n",
       " 'Humidity',\n",
       " 'Fertilizer',\n",
       " 'Crop',\n",
       " 'Month',\n",
       " 'Seeds',\n",
       " 'DYear',\n",
       " 'PerAcre',\n",
       " 'TTMarket']"
      ]
     },
     "execution_count": 12,
     "metadata": {},
     "output_type": "execute_result"
    }
   ],
   "source": [
    "# by observing the data set we can say that the columns DYear, PerAcre, TTMarket are also categorical variables\n",
    "for each in ['DYear','PerAcre','TTMarket']:\n",
    "    categoricals.append(each)\n",
    "categoricals"
   ]
  },
  {
   "cell_type": "code",
   "execution_count": 13,
   "id": "4b6744cf",
   "metadata": {},
   "outputs": [
    {
     "name": "stdout",
     "output_type": "stream",
     "text": [
      "for Region column - \n",
      "Mysore             1106\n",
      "Belgaum             401\n",
      "Koppa               400\n",
      "Bijapur             361\n",
      "Bidar               323\n",
      "Bagalkot            266\n",
      "Mandya              266\n",
      "Kolar               213\n",
      "Haveri              206\n",
      "Davanagere          187\n",
      "Karkala             183\n",
      "Kodagu              180\n",
      "Mangalore           173\n",
      "DakshinaKannada     172\n",
      "Kalasa              169\n",
      "Uttar Kannada       167\n",
      "Chamrajnagar        154\n",
      "Ramanagara          138\n",
      "Chikmagalur         120\n",
      "Hassan              100\n",
      "Chitradurga          97\n",
      "Raichur              57\n",
      "Gulbarga             57\n",
      "Dharwad              57\n",
      "Belgaum              57\n",
      "Tumkur               40\n",
      "Shivmogga            40\n",
      "Davangere            40\n",
      "Udupi                37\n",
      "Name: Region, dtype: int64\n",
      "--------------------------\n",
      "for Area column - \n",
      "Nanjangud       238\n",
      "Hunsur          238\n",
      "K R Nagara      200\n",
      "T Narasipura    200\n",
      "Sringeri        100\n",
      "               ... \n",
      "Avalenahalli      5\n",
      "Attikatte         5\n",
      "Arasuru           5\n",
      "Gubbi             5\n",
      "Kanajar           4\n",
      "Name: Area, Length: 202, dtype: int64\n",
      "--------------------------\n",
      "for Humidity column - \n",
      "45-55%    2999\n",
      "95%       1000\n",
      "50-65%     800\n",
      "80-90%     500\n",
      "56%        468\n",
      "Name: Humidity, dtype: int64\n",
      "--------------------------\n",
      "for Fertilizer column - \n",
      "200g of potash 200g of urea and 230 g of phosphoric acid           1835\n",
      "200g of nitrogen 200g of phosphate and 230 g of Potash             1729\n",
      "200g of calcium 200g of chloride and 230 g of nitrate              1125\n",
      "foliar spraying with Multi-K                                        134\n",
      "5-10-10 NPK ratio                                                   134\n",
      "                                                                   ... \n",
      "67 parts nitrogen with 5 parts phosphorus and 5 parts potassium       2\n",
      "68 parts nitrogen with 5 parts phosphorus and 5 parts potassium       2\n",
      "69 parts nitrogen with 5 parts phosphorus and 5 parts potassium       2\n",
      "70 parts nitrogen with 5 parts phosphorus and 5 parts potassium       2\n",
      "698 kg Nitrogen 40 kg Potassium and 40 kg Phosphoporous               2\n",
      "Name: Fertilizer, Length: 173, dtype: int64\n",
      "--------------------------\n",
      "for Crop column - \n",
      "Cotton       893\n",
      "Sugarcane    893\n",
      "Groundnut    808\n",
      "Paddy        485\n",
      "Jowar        472\n",
      "Coffee       467\n",
      "Arecanut     181\n",
      "groundnut    152\n",
      "sugarcane    116\n",
      "Ginger        67\n",
      "Pulses        67\n",
      "Pepper        67\n",
      "Tea           66\n",
      "Chilly        66\n",
      "coconut       64\n",
      "Redgram       63\n",
      "Sunflower     62\n",
      "Horsegram     62\n",
      "sesamum       60\n",
      "pepper        59\n",
      "Rice          58\n",
      "jackfruit     58\n",
      "mulberry      58\n",
      "Cashew        57\n",
      "Maize         57\n",
      "Ragi          56\n",
      "Coconut       56\n",
      "potato        56\n",
      "castor        53\n",
      "Mulberry      46\n",
      "Turdal        42\n",
      "Name: Crop, dtype: int64\n",
      "--------------------------\n",
      "for Month column - \n",
      "October      1253\n",
      "September    1167\n",
      "August       1130\n",
      "June         1110\n",
      "July         1107\n",
      "Name: Month, dtype: int64\n",
      "--------------------------\n",
      "for Seeds column - \n",
      "8-12 Kilograms      2136\n",
      "7-10 Kilograms      1793\n",
      "6-15 Kilograms      1638\n",
      "80-100 Kilograms     200\n",
      "Name: Seeds, dtype: int64\n",
      "--------------------------\n",
      "for DYear column - \n",
      "2002    549\n",
      "2018    538\n",
      "2017    535\n",
      "2003    506\n",
      "2004    419\n",
      "2016    324\n",
      "2001    317\n",
      "2010    258\n",
      "2012    258\n",
      "2013    258\n",
      "2014    258\n",
      "2015    258\n",
      "2011    258\n",
      "2000    210\n",
      "2005    138\n",
      "2006    138\n",
      "2007    138\n",
      "2008    138\n",
      "2009    138\n",
      "2019    131\n",
      "Name: DYear, dtype: int64\n",
      "--------------------------\n",
      "for PerAcre column - \n",
      "6    1473\n",
      "5    1468\n",
      "3    1414\n",
      "4    1412\n",
      "Name: PerAcre, dtype: int64\n",
      "--------------------------\n",
      "for TTMarket column - \n",
      "3    2902\n",
      "2    2865\n",
      "Name: TTMarket, dtype: int64\n",
      "--------------------------\n"
     ]
    }
   ],
   "source": [
    "# looking at the each categorical attribute\n",
    "for each in categoricals:\n",
    "    print('for', each, 'column - ') \n",
    "    print(df[each].value_counts()) \n",
    "    print('--------------------------')\n",
    "    \n",
    "## We have 29 regions, 202 areas, 31 crops and data related to 20 years i.e., from 2000 - 2019"
   ]
  },
  {
   "cell_type": "markdown",
   "id": "6440c796",
   "metadata": {},
   "source": [
    "### Observing categorical columns"
   ]
  },
  {
   "cell_type": "code",
   "execution_count": 14,
   "id": "fef2f0a3",
   "metadata": {},
   "outputs": [
    {
     "data": {
      "image/png": "[encoded data removed]",
      "text/plain": [
       "<Figure size 1152x720 with 1 Axes>"
      ]
     },
     "metadata": {
      "needs_background": "light"
     },
     "output_type": "display_data"
    }
   ],
   "source": [
    "# for 'Region' column\n",
    "plt.figure(figsize = (16,10))\n",
    "sns.countplot(data = df, x = df['Region'], order = df['Region'].value_counts().index)\n",
    "plt.xticks(rotation = 90)\n",
    "plt.show()\n",
    "\n",
    "## we have more number of records from mysore region and around 10 regions have more than 200 records"
   ]
  },
  {
   "cell_type": "code",
   "execution_count": 15,
   "id": "b2e08739",
   "metadata": {},
   "outputs": [],
   "source": [
    "## For 'Area' column we have 202 categories out of total 5676 records - so this column doesn't make much sense"
   ]
  },
  {
   "cell_type": "code",
   "execution_count": 16,
   "id": "f88da410",
   "metadata": {},
   "outputs": [
    {
     "data": {
      "text/plain": [
       "Index(['45-55%', '95%', '50-65%', '80-90%', '56%'], dtype='object')"
      ]
     },
     "execution_count": 16,
     "metadata": {},
     "output_type": "execute_result"
    }
   ],
   "source": [
    "# For 'Humidity' column\n",
    "df['Humidity'].value_counts().index\n",
    "## we will transform the values of this column into integers"
   ]
  },
  {
   "cell_type": "code",
   "execution_count": 17,
   "id": "9707baef",
   "metadata": {},
   "outputs": [],
   "source": [
    "def fn(x):\n",
    "    if len(x[:-1].split('-')) == 2:\n",
    "        return ((int(x[:-1].split('-')[0]) + int(x[:-1].split('-')[1])) / 2)\n",
    "    else:\n",
    "        return int(x[:-1])"
   ]
  },
  {
   "cell_type": "code",
   "execution_count": 18,
   "id": "5f266ac9",
   "metadata": {},
   "outputs": [],
   "source": [
    "df['Humidity'] = df['Humidity'].apply(lambda x : fn(x))"
   ]
  },
  {
   "cell_type": "code",
   "execution_count": 19,
   "id": "067f96da",
   "metadata": {},
   "outputs": [
    {
     "data": {
      "text/plain": [
       "Float64Index([50.0, 95.0, 57.5, 85.0, 56.0], dtype='float64')"
      ]
     },
     "execution_count": 19,
     "metadata": {},
     "output_type": "execute_result"
    }
   ],
   "source": [
    "df['Humidity'].value_counts().index\n",
    "# we can observe that all the values have been changed"
   ]
  },
  {
   "cell_type": "code",
   "execution_count": 20,
   "id": "82c4a13f",
   "metadata": {},
   "outputs": [
    {
     "data": {
      "text/plain": [
       "DYear                                                           2010\n",
       "Rainfall                                                       958.0\n",
       "Region                                                        Mysore\n",
       "Area                                                       Nanjangud\n",
       "Lattitude                                                     12.116\n",
       "Longitude                                                    76.6782\n",
       "Humidity                                                        85.0\n",
       "Min_Temperature                                                   26\n",
       "Max_Temperature                                                   34\n",
       "Min_Ph                                                           6.2\n",
       "Max_Ph                                                           7.3\n",
       "Fertilizer         200g of urea 200g of rock phosphate and 230 g ...\n",
       "Crop                                                       Groundnut\n",
       "Month                                                           June\n",
       "Sowing                                                       10272.0\n",
       "Others                                                        3678.0\n",
       "Investment                                                   13950.0\n",
       "Yield                                                           14.5\n",
       "MarketPrice                                                   6019.0\n",
       "TotalValue                                                   87275.5\n",
       "Profit                                                       73325.5\n",
       "Seeds                                               80-100 Kilograms\n",
       "PerAcre                                                            5\n",
       "TTMarket                                                           3\n",
       "Name: 1, dtype: object"
      ]
     },
     "execution_count": 20,
     "metadata": {},
     "output_type": "execute_result"
    }
   ],
   "source": [
    "df.iloc[1]"
   ]
  },
  {
   "cell_type": "code",
   "execution_count": 21,
   "id": "ef5f440f",
   "metadata": {},
   "outputs": [
    {
     "data": {
      "image/png": "[encoded data removed]",
      "text/plain": [
       "<Figure size 1152x720 with 1 Axes>"
      ]
     },
     "metadata": {},
     "output_type": "display_data"
    }
   ],
   "source": [
    "# plotting for 'Humidity' column\n",
    "plt.figure(figsize = (16,10))\n",
    "plt.pie(df['Humidity'].value_counts().values, labels = df['Humidity'].value_counts().index, autopct='%1.1f%%')\n",
    "plt.show()"
   ]
  },
  {
   "cell_type": "code",
   "execution_count": 22,
   "id": "f4d12417",
   "metadata": {},
   "outputs": [
    {
     "data": {
      "text/plain": [
       "Index(['sugarcane', 'groundnut', 'cotton', 'paddy', 'jowar', 'coffee',\n",
       "       'arecanut', 'pepper', 'coconut', 'mulberry', 'pulses', 'ginger', 'tea',\n",
       "       'chilly', 'redgram', 'sunflower', 'horsegram', 'sesamum', 'rice',\n",
       "       'jackfruit', 'maize', 'cashew', 'potato', 'ragi', 'castor', 'turdal'],\n",
       "      dtype='object')"
      ]
     },
     "execution_count": 22,
     "metadata": {},
     "output_type": "execute_result"
    }
   ],
   "source": [
    "# In 'Crop' column there are repaeated values like'Sugarcane' and 'sugarcane' \n",
    "# so, we will convert all the values to lowercase\n",
    "df['Crop'] = df['Crop'].str.lower()\n",
    "df['Crop'].value_counts().index"
   ]
  },
  {
   "cell_type": "code",
   "execution_count": 23,
   "id": "8f16a92d",
   "metadata": {},
   "outputs": [
    {
     "data": {
      "text/plain": [
       "26"
      ]
     },
     "execution_count": 23,
     "metadata": {},
     "output_type": "execute_result"
    }
   ],
   "source": [
    "len(df['Crop'].value_counts())\n",
    "# we only have data related to 26 crops"
   ]
  },
  {
   "cell_type": "code",
   "execution_count": 24,
   "id": "6e16e60f",
   "metadata": {},
   "outputs": [
    {
     "data": {
      "image/png": "[encoded data removed]",
      "text/plain": [
       "<Figure size 1152x720 with 1 Axes>"
      ]
     },
     "metadata": {
      "needs_background": "light"
     },
     "output_type": "display_data"
    }
   ],
   "source": [
    "# for 'Crop' column\n",
    "plt.figure(figsize = (16,10))\n",
    "sns.countplot(data = df, x = df['Crop'], order = df['Crop'].value_counts().index)\n",
    "plt.xticks(rotation = 90)\n",
    "plt.show()\n",
    "\n",
    "## we can do more analysis on the first 7 crops as we have sufficient data with sugarcane being occurred the most"
   ]
  },
  {
   "cell_type": "code",
   "execution_count": 25,
   "id": "d8203480",
   "metadata": {},
   "outputs": [
    {
     "data": {
      "text/plain": [
       "October      1253\n",
       "September    1167\n",
       "August       1130\n",
       "June         1110\n",
       "July         1107\n",
       "Name: Month, dtype: int64"
      ]
     },
     "execution_count": 25,
     "metadata": {},
     "output_type": "execute_result"
    }
   ],
   "source": [
    "# For 'Month' column\n",
    "df['Month'].value_counts()\n",
    "# we have data related to 5 months and almost all of them occurring in equal proportions"
   ]
  },
  {
   "cell_type": "code",
   "execution_count": 26,
   "id": "32c60694",
   "metadata": {},
   "outputs": [
    {
     "data": {
      "text/plain": [
       "Index(['8-12 Kilograms', '7-10 Kilograms', '6-15 Kilograms',\n",
       "       '80-100 Kilograms'],\n",
       "      dtype='object')"
      ]
     },
     "execution_count": 26,
     "metadata": {},
     "output_type": "execute_result"
    }
   ],
   "source": [
    "df['Seeds'].value_counts().index\n",
    "# we will remove the kilograms and also if its 8-12 we will transform it to the average i.e., 10"
   ]
  },
  {
   "cell_type": "code",
   "execution_count": 27,
   "id": "f7997710",
   "metadata": {},
   "outputs": [],
   "source": [
    "df['Seeds'] = df['Seeds'].apply(lambda x : x.split()[0])"
   ]
  },
  {
   "cell_type": "code",
   "execution_count": 28,
   "id": "5505c813",
   "metadata": {},
   "outputs": [],
   "source": [
    "df['Seeds'] = df['Seeds'].apply(lambda x : (int(x.split('-')[0]) + int(x.split('-')[1])) / 2 )"
   ]
  },
  {
   "cell_type": "code",
   "execution_count": 29,
   "id": "81333927",
   "metadata": {},
   "outputs": [
    {
     "data": {
      "text/plain": [
       "Float64Index([10.0, 8.5, 10.5, 90.0], dtype='float64')"
      ]
     },
     "execution_count": 29,
     "metadata": {},
     "output_type": "execute_result"
    }
   ],
   "source": [
    "df['Seeds'].value_counts().index"
   ]
  },
  {
   "cell_type": "code",
   "execution_count": 30,
   "id": "439e2140",
   "metadata": {},
   "outputs": [
    {
     "data": {
      "image/png": "[encoded data removed]",
      "text/plain": [
       "<Figure size 1152x720 with 1 Axes>"
      ]
     },
     "metadata": {
      "needs_background": "light"
     },
     "output_type": "display_data"
    }
   ],
   "source": [
    "# for 'Seeds' column\n",
    "plt.figure(figsize = (16,10))\n",
    "sns.countplot(data = df, x = df['Seeds'], order = df['Seeds'].value_counts().index)\n",
    "plt.xticks(rotation = 90)\n",
    "plt.show()"
   ]
  },
  {
   "cell_type": "markdown",
   "id": "c745abee",
   "metadata": {},
   "source": [
    "### Observing Numerical Columns"
   ]
  },
  {
   "cell_type": "code",
   "execution_count": 31,
   "id": "7b010f7a",
   "metadata": {},
   "outputs": [
    {
     "data": {
      "text/plain": [
       "['Rainfall',\n",
       " 'Lattitude',\n",
       " 'Longitude',\n",
       " 'Min_Temperature',\n",
       " 'Max_Temperature',\n",
       " 'Min_Ph',\n",
       " 'Max_Ph',\n",
       " 'Sowing',\n",
       " 'Others',\n",
       " 'Investment',\n",
       " 'Yield',\n",
       " 'MarketPrice',\n",
       " 'TotalValue',\n",
       " 'Profit']"
      ]
     },
     "execution_count": 31,
     "metadata": {},
     "output_type": "execute_result"
    }
   ],
   "source": [
    "numericals = [x for x in df.columns if x not in categoricals] \n",
    "numericals"
   ]
  },
  {
   "cell_type": "code",
   "execution_count": 32,
   "id": "6dce7671",
   "metadata": {},
   "outputs": [],
   "source": [
    "# we will calculate the average of the two temparatures columns and name it as avg_temp, do the same for ph\n",
    "df['Avg_Temp'] = (df['Min_Temperature'] + df['Max_Temperature']) / 2\n",
    "\n",
    "df['Avg_Ph'] = (df['Min_Ph'] + df['Max_Ph']) / 2"
   ]
  },
  {
   "cell_type": "code",
   "execution_count": 33,
   "id": "51c082ae",
   "metadata": {},
   "outputs": [
    {
     "data": {
      "text/plain": [
       "Index(['DYear', 'Rainfall', 'Region', 'Area', 'Lattitude', 'Longitude',\n",
       "       'Humidity', 'Min_Temperature', 'Max_Temperature', 'Min_Ph', 'Max_Ph',\n",
       "       'Fertilizer', 'Crop', 'Month', 'Sowing', 'Others', 'Investment',\n",
       "       'Yield', 'MarketPrice', 'TotalValue', 'Profit', 'Seeds', 'PerAcre',\n",
       "       'TTMarket', 'Avg_Temp', 'Avg_Ph'],\n",
       "      dtype='object')"
      ]
     },
     "execution_count": 33,
     "metadata": {},
     "output_type": "execute_result"
    }
   ],
   "source": [
    "df.columns"
   ]
  },
  {
   "cell_type": "code",
   "execution_count": 34,
   "id": "abadf567",
   "metadata": {},
   "outputs": [],
   "source": [
    "# dropping all the unnecessary columns \n",
    "df.drop(['Min_Temperature','Max_Temperature','Min_Ph','Max_Ph','Area','Sowing','Others'], axis = 1, inplace = True)"
   ]
  },
  {
   "cell_type": "code",
   "execution_count": 35,
   "id": "cced38f2",
   "metadata": {},
   "outputs": [
    {
     "data": {
      "text/plain": [
       "['Rainfall',\n",
       " 'Lattitude',\n",
       " 'Longitude',\n",
       " 'Investment',\n",
       " 'Yield',\n",
       " 'MarketPrice',\n",
       " 'TotalValue',\n",
       " 'Profit',\n",
       " 'Avg_Temp',\n",
       " 'Avg_Ph']"
      ]
     },
     "execution_count": 35,
     "metadata": {},
     "output_type": "execute_result"
    }
   ],
   "source": [
    "new_numericals = [x for x in df.columns if x not in categoricals]\n",
    "new_numericals"
   ]
  },
  {
   "cell_type": "code",
   "execution_count": 36,
   "id": "779cc8ae",
   "metadata": {},
   "outputs": [
    {
     "data": {
      "text/html": [
       "<div>\n",
       "<style scoped>\n",
       "    .dataframe tbody tr th:only-of-type {\n",
       "        vertical-align: middle;\n",
       "    }\n",
       "\n",
       "    .dataframe tbody tr th {\n",
       "        vertical-align: top;\n",
       "    }\n",
       "\n",
       "    .dataframe thead th {\n",
       "        text-align: right;\n",
       "    }\n",
       "</style>\n",
       "<table border=\"1\" class=\"dataframe\">\n",
       "  <thead>\n",
       "    <tr style=\"text-align: right;\">\n",
       "      <th></th>\n",
       "      <th>Rainfall</th>\n",
       "      <th>Lattitude</th>\n",
       "      <th>Longitude</th>\n",
       "      <th>Investment</th>\n",
       "      <th>Yield</th>\n",
       "      <th>MarketPrice</th>\n",
       "      <th>TotalValue</th>\n",
       "      <th>Profit</th>\n",
       "      <th>Avg_Temp</th>\n",
       "      <th>Avg_Ph</th>\n",
       "    </tr>\n",
       "  </thead>\n",
       "  <tbody>\n",
       "    <tr>\n",
       "      <th>Rainfall</th>\n",
       "      <td>1.000000</td>\n",
       "      <td>0.050467</td>\n",
       "      <td>-0.190884</td>\n",
       "      <td>-0.020231</td>\n",
       "      <td>-0.045457</td>\n",
       "      <td>-0.014060</td>\n",
       "      <td>0.418065</td>\n",
       "      <td>-0.007376</td>\n",
       "      <td>-0.147673</td>\n",
       "      <td>-0.007582</td>\n",
       "    </tr>\n",
       "    <tr>\n",
       "      <th>Lattitude</th>\n",
       "      <td>0.050467</td>\n",
       "      <td>1.000000</td>\n",
       "      <td>-0.179787</td>\n",
       "      <td>-0.538287</td>\n",
       "      <td>0.500382</td>\n",
       "      <td>0.179643</td>\n",
       "      <td>-0.087001</td>\n",
       "      <td>-0.294062</td>\n",
       "      <td>0.136994</td>\n",
       "      <td>0.199325</td>\n",
       "    </tr>\n",
       "    <tr>\n",
       "      <th>Longitude</th>\n",
       "      <td>-0.190884</td>\n",
       "      <td>-0.179787</td>\n",
       "      <td>1.000000</td>\n",
       "      <td>0.263766</td>\n",
       "      <td>-0.260309</td>\n",
       "      <td>-0.079566</td>\n",
       "      <td>0.067142</td>\n",
       "      <td>0.147000</td>\n",
       "      <td>0.015965</td>\n",
       "      <td>-0.042637</td>\n",
       "    </tr>\n",
       "    <tr>\n",
       "      <th>Investment</th>\n",
       "      <td>-0.020231</td>\n",
       "      <td>-0.538287</td>\n",
       "      <td>0.263766</td>\n",
       "      <td>1.000000</td>\n",
       "      <td>-0.860201</td>\n",
       "      <td>-0.011285</td>\n",
       "      <td>0.328854</td>\n",
       "      <td>0.629055</td>\n",
       "      <td>-0.018147</td>\n",
       "      <td>-0.233650</td>\n",
       "    </tr>\n",
       "    <tr>\n",
       "      <th>Yield</th>\n",
       "      <td>-0.045457</td>\n",
       "      <td>0.500382</td>\n",
       "      <td>-0.260309</td>\n",
       "      <td>-0.860201</td>\n",
       "      <td>1.000000</td>\n",
       "      <td>0.305174</td>\n",
       "      <td>-0.310477</td>\n",
       "      <td>-0.444824</td>\n",
       "      <td>0.202656</td>\n",
       "      <td>0.235607</td>\n",
       "    </tr>\n",
       "    <tr>\n",
       "      <th>MarketPrice</th>\n",
       "      <td>-0.014060</td>\n",
       "      <td>0.179643</td>\n",
       "      <td>-0.079566</td>\n",
       "      <td>-0.011285</td>\n",
       "      <td>0.305174</td>\n",
       "      <td>1.000000</td>\n",
       "      <td>0.327083</td>\n",
       "      <td>0.493654</td>\n",
       "      <td>0.228377</td>\n",
       "      <td>0.093036</td>\n",
       "    </tr>\n",
       "    <tr>\n",
       "      <th>TotalValue</th>\n",
       "      <td>0.418065</td>\n",
       "      <td>-0.087001</td>\n",
       "      <td>0.067142</td>\n",
       "      <td>0.328854</td>\n",
       "      <td>-0.310477</td>\n",
       "      <td>0.327083</td>\n",
       "      <td>1.000000</td>\n",
       "      <td>0.518503</td>\n",
       "      <td>-0.134087</td>\n",
       "      <td>-0.027072</td>\n",
       "    </tr>\n",
       "    <tr>\n",
       "      <th>Profit</th>\n",
       "      <td>-0.007376</td>\n",
       "      <td>-0.294062</td>\n",
       "      <td>0.147000</td>\n",
       "      <td>0.629055</td>\n",
       "      <td>-0.444824</td>\n",
       "      <td>0.493654</td>\n",
       "      <td>0.518503</td>\n",
       "      <td>1.000000</td>\n",
       "      <td>-0.105809</td>\n",
       "      <td>-0.116317</td>\n",
       "    </tr>\n",
       "    <tr>\n",
       "      <th>Avg_Temp</th>\n",
       "      <td>-0.147673</td>\n",
       "      <td>0.136994</td>\n",
       "      <td>0.015965</td>\n",
       "      <td>-0.018147</td>\n",
       "      <td>0.202656</td>\n",
       "      <td>0.228377</td>\n",
       "      <td>-0.134087</td>\n",
       "      <td>-0.105809</td>\n",
       "      <td>1.000000</td>\n",
       "      <td>0.091118</td>\n",
       "    </tr>\n",
       "    <tr>\n",
       "      <th>Avg_Ph</th>\n",
       "      <td>-0.007582</td>\n",
       "      <td>0.199325</td>\n",
       "      <td>-0.042637</td>\n",
       "      <td>-0.233650</td>\n",
       "      <td>0.235607</td>\n",
       "      <td>0.093036</td>\n",
       "      <td>-0.027072</td>\n",
       "      <td>-0.116317</td>\n",
       "      <td>0.091118</td>\n",
       "      <td>1.000000</td>\n",
       "    </tr>\n",
       "  </tbody>\n",
       "</table>\n",
       "</div>"
      ],
      "text/plain": [
       "             Rainfall  Lattitude  Longitude  Investment     Yield  \\\n",
       "Rainfall     1.000000   0.050467  -0.190884   -0.020231 -0.045457   \n",
       "Lattitude    0.050467   1.000000  -0.179787   -0.538287  0.500382   \n",
       "Longitude   -0.190884  -0.179787   1.000000    0.263766 -0.260309   \n",
       "Investment  -0.020231  -0.538287   0.263766    1.000000 -0.860201   \n",
       "Yield       -0.045457   0.500382  -0.260309   -0.860201  1.000000   \n",
       "MarketPrice -0.014060   0.179643  -0.079566   -0.011285  0.305174   \n",
       "TotalValue   0.418065  -0.087001   0.067142    0.328854 -0.310477   \n",
       "Profit      -0.007376  -0.294062   0.147000    0.629055 -0.444824   \n",
       "Avg_Temp    -0.147673   0.136994   0.015965   -0.018147  0.202656   \n",
       "Avg_Ph      -0.007582   0.199325  -0.042637   -0.233650  0.235607   \n",
       "\n",
       "             MarketPrice  TotalValue    Profit  Avg_Temp    Avg_Ph  \n",
       "Rainfall       -0.014060    0.418065 -0.007376 -0.147673 -0.007582  \n",
       "Lattitude       0.179643   -0.087001 -0.294062  0.136994  0.199325  \n",
       "Longitude      -0.079566    0.067142  0.147000  0.015965 -0.042637  \n",
       "Investment     -0.011285    0.328854  0.629055 -0.018147 -0.233650  \n",
       "Yield           0.305174   -0.310477 -0.444824  0.202656  0.235607  \n",
       "MarketPrice     1.000000    0.327083  0.493654  0.228377  0.093036  \n",
       "TotalValue      0.327083    1.000000  0.518503 -0.134087 -0.027072  \n",
       "Profit          0.493654    0.518503  1.000000 -0.105809 -0.116317  \n",
       "Avg_Temp        0.228377   -0.134087 -0.105809  1.000000  0.091118  \n",
       "Avg_Ph          0.093036   -0.027072 -0.116317  0.091118  1.000000  "
      ]
     },
     "execution_count": 36,
     "metadata": {},
     "output_type": "execute_result"
    }
   ],
   "source": [
    "df[new_numericals].corr()"
   ]
  },
  {
   "cell_type": "code",
   "execution_count": 37,
   "id": "cae81c65",
   "metadata": {},
   "outputs": [
    {
     "data": {
      "text/html": [
       "<div>\n",
       "<style scoped>\n",
       "    .dataframe tbody tr th:only-of-type {\n",
       "        vertical-align: middle;\n",
       "    }\n",
       "\n",
       "    .dataframe tbody tr th {\n",
       "        vertical-align: top;\n",
       "    }\n",
       "\n",
       "    .dataframe thead th {\n",
       "        text-align: right;\n",
       "    }\n",
       "</style>\n",
       "<table border=\"1\" class=\"dataframe\">\n",
       "  <thead>\n",
       "    <tr style=\"text-align: right;\">\n",
       "      <th></th>\n",
       "      <th>Rainfall</th>\n",
       "      <th>Lattitude</th>\n",
       "      <th>Longitude</th>\n",
       "      <th>Investment</th>\n",
       "      <th>Yield</th>\n",
       "      <th>MarketPrice</th>\n",
       "      <th>TotalValue</th>\n",
       "      <th>Profit</th>\n",
       "      <th>Avg_Temp</th>\n",
       "      <th>Avg_Ph</th>\n",
       "    </tr>\n",
       "  </thead>\n",
       "  <tbody>\n",
       "    <tr>\n",
       "      <th>count</th>\n",
       "      <td>5767.000000</td>\n",
       "      <td>5767.000000</td>\n",
       "      <td>5767.000000</td>\n",
       "      <td>5767.000000</td>\n",
       "      <td>5767.000000</td>\n",
       "      <td>5767.000000</td>\n",
       "      <td>5767.000000</td>\n",
       "      <td>5767.000000</td>\n",
       "      <td>5767.000000</td>\n",
       "      <td>5767.000000</td>\n",
       "    </tr>\n",
       "    <tr>\n",
       "      <th>mean</th>\n",
       "      <td>1065.453598</td>\n",
       "      <td>14.482072</td>\n",
       "      <td>75.964156</td>\n",
       "      <td>2783.358383</td>\n",
       "      <td>703.838657</td>\n",
       "      <td>3127.892502</td>\n",
       "      <td>35678.720164</td>\n",
       "      <td>26576.518446</td>\n",
       "      <td>27.930987</td>\n",
       "      <td>6.918510</td>\n",
       "    </tr>\n",
       "    <tr>\n",
       "      <th>std</th>\n",
       "      <td>418.177724</td>\n",
       "      <td>1.933815</td>\n",
       "      <td>1.026606</td>\n",
       "      <td>2933.644103</td>\n",
       "      <td>376.095721</td>\n",
       "      <td>796.873559</td>\n",
       "      <td>19224.511038</td>\n",
       "      <td>10240.615535</td>\n",
       "      <td>1.873193</td>\n",
       "      <td>0.368634</td>\n",
       "    </tr>\n",
       "    <tr>\n",
       "      <th>min</th>\n",
       "      <td>450.000000</td>\n",
       "      <td>11.926100</td>\n",
       "      <td>74.497700</td>\n",
       "      <td>1200.000000</td>\n",
       "      <td>10.100000</td>\n",
       "      <td>1191.771456</td>\n",
       "      <td>1264.000000</td>\n",
       "      <td>3930.500000</td>\n",
       "      <td>19.500000</td>\n",
       "      <td>6.250000</td>\n",
       "    </tr>\n",
       "    <tr>\n",
       "      <th>25%</th>\n",
       "      <td>764.000000</td>\n",
       "      <td>12.521800</td>\n",
       "      <td>74.996200</td>\n",
       "      <td>1328.500000</td>\n",
       "      <td>645.000000</td>\n",
       "      <td>2832.000000</td>\n",
       "      <td>28197.000000</td>\n",
       "      <td>22315.821300</td>\n",
       "      <td>28.000000</td>\n",
       "      <td>6.500000</td>\n",
       "    </tr>\n",
       "    <tr>\n",
       "      <th>50%</th>\n",
       "      <td>955.000000</td>\n",
       "      <td>14.464400</td>\n",
       "      <td>75.899900</td>\n",
       "      <td>1462.000000</td>\n",
       "      <td>834.000000</td>\n",
       "      <td>3135.000000</td>\n",
       "      <td>29981.000000</td>\n",
       "      <td>24301.900000</td>\n",
       "      <td>28.000000</td>\n",
       "      <td>7.000000</td>\n",
       "    </tr>\n",
       "    <tr>\n",
       "      <th>75%</th>\n",
       "      <td>1189.000000</td>\n",
       "      <td>16.169100</td>\n",
       "      <td>76.895100</td>\n",
       "      <td>1582.000000</td>\n",
       "      <td>979.000000</td>\n",
       "      <td>3510.000000</td>\n",
       "      <td>31376.000000</td>\n",
       "      <td>27248.620000</td>\n",
       "      <td>28.000000</td>\n",
       "      <td>7.000000</td>\n",
       "    </tr>\n",
       "    <tr>\n",
       "      <th>max</th>\n",
       "      <td>2400.000000</td>\n",
       "      <td>17.910400</td>\n",
       "      <td>78.129100</td>\n",
       "      <td>14260.000000</td>\n",
       "      <td>1100.000000</td>\n",
       "      <td>6115.000000</td>\n",
       "      <td>94994.000000</td>\n",
       "      <td>77051.000000</td>\n",
       "      <td>30.500000</td>\n",
       "      <td>7.500000</td>\n",
       "    </tr>\n",
       "  </tbody>\n",
       "</table>\n",
       "</div>"
      ],
      "text/plain": [
       "          Rainfall    Lattitude    Longitude    Investment        Yield  \\\n",
       "count  5767.000000  5767.000000  5767.000000   5767.000000  5767.000000   \n",
       "mean   1065.453598    14.482072    75.964156   2783.358383   703.838657   \n",
       "std     418.177724     1.933815     1.026606   2933.644103   376.095721   \n",
       "min     450.000000    11.926100    74.497700   1200.000000    10.100000   \n",
       "25%     764.000000    12.521800    74.996200   1328.500000   645.000000   \n",
       "50%     955.000000    14.464400    75.899900   1462.000000   834.000000   \n",
       "75%    1189.000000    16.169100    76.895100   1582.000000   979.000000   \n",
       "max    2400.000000    17.910400    78.129100  14260.000000  1100.000000   \n",
       "\n",
       "       MarketPrice    TotalValue        Profit     Avg_Temp       Avg_Ph  \n",
       "count  5767.000000   5767.000000   5767.000000  5767.000000  5767.000000  \n",
       "mean   3127.892502  35678.720164  26576.518446    27.930987     6.918510  \n",
       "std     796.873559  19224.511038  10240.615535     1.873193     0.368634  \n",
       "min    1191.771456   1264.000000   3930.500000    19.500000     6.250000  \n",
       "25%    2832.000000  28197.000000  22315.821300    28.000000     6.500000  \n",
       "50%    3135.000000  29981.000000  24301.900000    28.000000     7.000000  \n",
       "75%    3510.000000  31376.000000  27248.620000    28.000000     7.000000  \n",
       "max    6115.000000  94994.000000  77051.000000    30.500000     7.500000  "
      ]
     },
     "execution_count": 37,
     "metadata": {},
     "output_type": "execute_result"
    }
   ],
   "source": [
    "df[new_numericals].describe()"
   ]
  },
  {
   "cell_type": "code",
   "execution_count": 38,
   "id": "83d540d1",
   "metadata": {},
   "outputs": [],
   "source": [
    "df_2 = df.copy()"
   ]
  },
  {
   "cell_type": "code",
   "execution_count": 39,
   "id": "a71798e4",
   "metadata": {},
   "outputs": [
    {
     "name": "stdout",
     "output_type": "stream",
     "text": [
      "Rainfall 1.2875627627494284\n",
      "Lattitude 0.19359464105533844\n",
      "Longitude 0.12063743820200816\n",
      "Investment 2.1563159131333447\n",
      "Yield 1.065635636483882\n",
      "MarketPrice 0.48549855612515086\n",
      "TotalValue 1.912515507323129\n",
      "Profit 2.3958130979282846\n",
      "Avg_Temp 1.818473656501908\n",
      "Avg_Ph 0.41463751317359526\n"
     ]
    }
   ],
   "source": [
    "for each in new_numericals:\n",
    "    print(each, np.abs(df[each].skew()))\n",
    "# If skewness of a column greater than 0.5 - we need to consider dealing the outliers of those columns"
   ]
  },
  {
   "cell_type": "code",
   "execution_count": 40,
   "id": "81ad49d0",
   "metadata": {},
   "outputs": [],
   "source": [
    "outlier_columns = ['Rainfall', 'Investment', 'Yield', 'TotalValue', 'Profit', 'Avg_Temp']"
   ]
  },
  {
   "cell_type": "code",
   "execution_count": 41,
   "id": "5daa9928",
   "metadata": {},
   "outputs": [],
   "source": [
    "x = df[outlier_columns].copy()"
   ]
  },
  {
   "cell_type": "code",
   "execution_count": 42,
   "id": "4c98ea03",
   "metadata": {},
   "outputs": [],
   "source": [
    "x = np.log(x)"
   ]
  },
  {
   "cell_type": "code",
   "execution_count": 43,
   "id": "aef84eac",
   "metadata": {},
   "outputs": [
    {
     "name": "stdout",
     "output_type": "stream",
     "text": [
      "Rainfall 0.5647213889895059\n",
      "Investment 1.5194171844489617\n",
      "Yield 1.4035991058333515\n",
      "TotalValue 0.38332844720312315\n",
      "Profit 0.38608513270657\n",
      "Avg_Temp 2.0868513477983526\n"
     ]
    }
   ],
   "source": [
    "for each in x.columns:\n",
    "    print(each, np.abs(x[each].skew()))\n",
    "# we can see that TotalValue, Profit columns were reduced from outliers"
   ]
  },
  {
   "cell_type": "code",
   "execution_count": 44,
   "id": "ce51df18",
   "metadata": {},
   "outputs": [],
   "source": [
    "df[outlier_columns] = x"
   ]
  },
  {
   "cell_type": "code",
   "execution_count": 45,
   "id": "13dcd612",
   "metadata": {},
   "outputs": [
    {
     "name": "stderr",
     "output_type": "stream",
     "text": [
      "/opt/anaconda3/lib/python3.9/site-packages/seaborn/_decorators.py:36: FutureWarning: Pass the following variable as a keyword arg: x. From version 0.12, the only valid positional argument will be `data`, and passing other arguments without an explicit keyword will result in an error or misinterpretation.\n",
      "  warnings.warn(\n",
      "/opt/anaconda3/lib/python3.9/site-packages/seaborn/_decorators.py:36: FutureWarning: Pass the following variable as a keyword arg: x. From version 0.12, the only valid positional argument will be `data`, and passing other arguments without an explicit keyword will result in an error or misinterpretation.\n",
      "  warnings.warn(\n",
      "/opt/anaconda3/lib/python3.9/site-packages/seaborn/_decorators.py:36: FutureWarning: Pass the following variable as a keyword arg: x. From version 0.12, the only valid positional argument will be `data`, and passing other arguments without an explicit keyword will result in an error or misinterpretation.\n",
      "  warnings.warn(\n",
      "/opt/anaconda3/lib/python3.9/site-packages/seaborn/_decorators.py:36: FutureWarning: Pass the following variable as a keyword arg: x. From version 0.12, the only valid positional argument will be `data`, and passing other arguments without an explicit keyword will result in an error or misinterpretation.\n",
      "  warnings.warn(\n"
     ]
    },
    {
     "data": {
      "text/plain": [
       "<AxesSubplot:xlabel='Rainfall'>"
      ]
     },
     "execution_count": 45,
     "metadata": {},
     "output_type": "execute_result"
    },
    {
     "data": {
      "image/png": "[encoded data removed]",
      "text/plain": [
       "<Figure size 720x576 with 4 Axes>"
      ]
     },
     "metadata": {
      "needs_background": "light"
     },
     "output_type": "display_data"
    }
   ],
   "source": [
    "# we need to manage Investment, Yield, Avg_Temp, RainFall columns\n",
    "fig, axs=plt.subplots (2,2, figsize= (10, 8))\n",
    "sns.boxplot(df['Investment'], ax=axs [0,0]) \n",
    "sns.boxplot(df['Yield'], ax=axs [0,1])\n",
    "sns.boxplot(df['Avg_Temp'], ax=axs [1,0])\n",
    "sns.boxplot(df['Rainfall'], ax=axs [1,1])"
   ]
  },
  {
   "cell_type": "code",
   "execution_count": 46,
   "id": "b7dad1fb",
   "metadata": {},
   "outputs": [
    {
     "data": {
      "text/html": [
       "<div>\n",
       "<style scoped>\n",
       "    .dataframe tbody tr th:only-of-type {\n",
       "        vertical-align: middle;\n",
       "    }\n",
       "\n",
       "    .dataframe tbody tr th {\n",
       "        vertical-align: top;\n",
       "    }\n",
       "\n",
       "    .dataframe thead th {\n",
       "        text-align: right;\n",
       "    }\n",
       "</style>\n",
       "<table border=\"1\" class=\"dataframe\">\n",
       "  <thead>\n",
       "    <tr style=\"text-align: right;\">\n",
       "      <th></th>\n",
       "      <th>Investment</th>\n",
       "      <th>Yield</th>\n",
       "    </tr>\n",
       "  </thead>\n",
       "  <tbody>\n",
       "    <tr>\n",
       "      <th>Investment</th>\n",
       "      <td>1.000000</td>\n",
       "      <td>-0.977489</td>\n",
       "    </tr>\n",
       "    <tr>\n",
       "      <th>Yield</th>\n",
       "      <td>-0.977489</td>\n",
       "      <td>1.000000</td>\n",
       "    </tr>\n",
       "  </tbody>\n",
       "</table>\n",
       "</div>"
      ],
      "text/plain": [
       "            Investment     Yield\n",
       "Investment    1.000000 -0.977489\n",
       "Yield        -0.977489  1.000000"
      ]
     },
     "execution_count": 46,
     "metadata": {},
     "output_type": "execute_result"
    }
   ],
   "source": [
    "# Investment and Yield are having outliers on one side and we will just see if they are in any way related\n",
    "df[['Investment','Yield']].corr()\n",
    "\n",
    "## these two columns are highly inversely correlated and a correlation of 0.9 means we can delete one column\n",
    "## but for now, we will delete the Yield column - we still have Profit column which we can use inplace of 'Yield'"
   ]
  },
  {
   "cell_type": "code",
   "execution_count": 47,
   "id": "3b0c80dd",
   "metadata": {},
   "outputs": [],
   "source": [
    "df.drop('Yield', axis = 1, inplace = True)"
   ]
  },
  {
   "cell_type": "code",
   "execution_count": 48,
   "id": "af0d0ac7",
   "metadata": {},
   "outputs": [],
   "source": [
    "outliers = ['Investment', 'Avg_Temp', 'Rainfall']\n",
    "from sklearn.preprocessing import PowerTransformer\n",
    "p = PowerTransformer (method = 'box-cox')\n",
    "df[outliers] = p.fit_transform(df[outliers])"
   ]
  },
  {
   "cell_type": "code",
   "execution_count": 49,
   "id": "4314d511",
   "metadata": {},
   "outputs": [
    {
     "data": {
      "text/plain": [
       "Investment    0.000000\n",
       "Avg_Temp      0.046464\n",
       "Rainfall      0.038135\n",
       "dtype: float64"
      ]
     },
     "execution_count": 49,
     "metadata": {},
     "output_type": "execute_result"
    }
   ],
   "source": [
    "df[outliers].skew()\n",
    "# we can see that there are no more outliers in our data set"
   ]
  },
  {
   "cell_type": "code",
   "execution_count": 50,
   "id": "4c1aa0f9",
   "metadata": {},
   "outputs": [
    {
     "name": "stderr",
     "output_type": "stream",
     "text": [
      "/opt/anaconda3/lib/python3.9/site-packages/seaborn/distributions.py:2619: FutureWarning: `distplot` is a deprecated function and will be removed in a future version. Please adapt your code to use either `displot` (a figure-level function with similar flexibility) or `histplot` (an axes-level function for histograms).\n",
      "  warnings.warn(msg, FutureWarning)\n",
      "/opt/anaconda3/lib/python3.9/site-packages/seaborn/distributions.py:2619: FutureWarning: `distplot` is a deprecated function and will be removed in a future version. Please adapt your code to use either `displot` (a figure-level function with similar flexibility) or `histplot` (an axes-level function for histograms).\n",
      "  warnings.warn(msg, FutureWarning)\n",
      "/opt/anaconda3/lib/python3.9/site-packages/seaborn/distributions.py:2619: FutureWarning: `distplot` is a deprecated function and will be removed in a future version. Please adapt your code to use either `displot` (a figure-level function with similar flexibility) or `histplot` (an axes-level function for histograms).\n",
      "  warnings.warn(msg, FutureWarning)\n",
      "/opt/anaconda3/lib/python3.9/site-packages/seaborn/distributions.py:2619: FutureWarning: `distplot` is a deprecated function and will be removed in a future version. Please adapt your code to use either `displot` (a figure-level function with similar flexibility) or `histplot` (an axes-level function for histograms).\n",
      "  warnings.warn(msg, FutureWarning)\n"
     ]
    },
    {
     "data": {
      "text/plain": [
       "<AxesSubplot:xlabel='Rainfall', ylabel='Density'>"
      ]
     },
     "execution_count": 50,
     "metadata": {},
     "output_type": "execute_result"
    },
    {
     "data": {
      "image/png": "[encoded data removed]",
      "text/plain": [
       "<Figure size 720x576 with 4 Axes>"
      ]
     },
     "metadata": {
      "needs_background": "light"
     },
     "output_type": "display_data"
    }
   ],
   "source": [
    "# Looking at some of the distributions of numerical columns\n",
    "fig, axs=plt.subplots (2,2, figsize= (10, 8))\n",
    "sns.distplot(df['Profit'], ax=axs [0,0]) \n",
    "sns.distplot(df['Avg_Ph'], ax=axs [0,1])\n",
    "sns.distplot(df['Avg_Temp'], ax=axs [1,0])\n",
    "sns.distplot(df['Rainfall'], ax=axs [1,1])"
   ]
  },
  {
   "cell_type": "code",
   "execution_count": 51,
   "id": "1c042818",
   "metadata": {},
   "outputs": [
    {
     "name": "stdout",
     "output_type": "stream",
     "text": [
      "6\n",
      "11\n"
     ]
    }
   ],
   "source": [
    "print(df['Avg_Ph'].nunique())\n",
    "print(df['Avg_Temp'].nunique())\n",
    "## From the above distribution plots we can see that Profit and Rainfall somewhat resembles normal distribution\n",
    "## Avg_Ph and Avg_Temp columns are having 6 and 11 unique values -  so, No problem even if the curve isn't normal"
   ]
  },
  {
   "cell_type": "markdown",
   "id": "800d0e56",
   "metadata": {},
   "source": [
    "## Checking for relations among data attributes"
   ]
  },
  {
   "cell_type": "code",
   "execution_count": 52,
   "id": "ded969c5",
   "metadata": {},
   "outputs": [],
   "source": [
    "# Lookig at which crop is getting the best profits - we will create a new column profit per acre\n",
    "df['Profit_per_acre'] = df['Profit'] / df['PerAcre']"
   ]
  },
  {
   "cell_type": "code",
   "execution_count": 53,
   "id": "e46fb393",
   "metadata": {},
   "outputs": [
    {
     "data": {
      "text/plain": [
       "Crop\n",
       "arecanut     2.469010\n",
       "cashew       2.473690\n",
       "castor       2.531497\n",
       "chilly       2.377042\n",
       "coconut      2.448707\n",
       "coffee       2.382952\n",
       "cotton       2.367494\n",
       "ginger       2.424128\n",
       "groundnut    2.412493\n",
       "horsegram    2.318405\n",
       "jackfruit    2.327254\n",
       "jowar        2.406253\n",
       "maize        2.370618\n",
       "mulberry     2.314568\n",
       "paddy        2.358467\n",
       "pepper       2.502151\n",
       "potato       2.497211\n",
       "pulses       2.450690\n",
       "ragi         2.521250\n",
       "redgram      2.439294\n",
       "rice         2.414153\n",
       "sesamum      2.302398\n",
       "sugarcane    2.365602\n",
       "sunflower    2.525959\n",
       "tea          2.454410\n",
       "turdal       2.353289\n",
       "Name: Profit_per_acre, dtype: float64"
      ]
     },
     "execution_count": 53,
     "metadata": {},
     "output_type": "execute_result"
    }
   ],
   "source": [
    "# Which crop has best profits?\n",
    "df.groupby('Crop').mean()['Profit_per_acre']\n",
    "# we can see almost all the crops are getting profits in the same range in our data"
   ]
  },
  {
   "cell_type": "code",
   "execution_count": 54,
   "id": "489b4f49",
   "metadata": {},
   "outputs": [
    {
     "data": {
      "text/plain": [
       "<AxesSubplot:ylabel='Density'>"
      ]
     },
     "execution_count": 54,
     "metadata": {},
     "output_type": "execute_result"
    },
    {
     "data": {
      "image/png": "[encoded data removed]",
      "text/plain": [
       "<Figure size 432x288 with 1 Axes>"
      ]
     },
     "metadata": {
      "needs_background": "light"
     },
     "output_type": "display_data"
    }
   ],
   "source": [
    "df['Profit'].plot.density()"
   ]
  },
  {
   "cell_type": "code",
   "execution_count": 55,
   "id": "008b8b17",
   "metadata": {},
   "outputs": [
    {
     "data": {
      "text/plain": [
       "<AxesSubplot:>"
      ]
     },
     "execution_count": 55,
     "metadata": {},
     "output_type": "execute_result"
    },
    {
     "data": {
      "image/png": "[encoded data removed]",
      "text/plain": [
       "<Figure size 432x288 with 1 Axes>"
      ]
     },
     "metadata": {
      "needs_background": "light"
     },
     "output_type": "display_data"
    }
   ],
   "source": [
    "# which attributes are mostly related to our targer column - 'Profit'?\n",
    "df.corr()['Profit'].sort_values().plot(kind = 'bar')\n",
    "\n",
    "## TTmarket and PerAcre have negligible affect on the target label - we will delete them before creating our model\n",
    "## Before deleting PerAcre make sure that - columns 'Seeds', 'TotalValue', 'Investment' are divided by that"
   ]
  },
  {
   "cell_type": "markdown",
   "id": "31b2d604",
   "metadata": {},
   "source": [
    "### year - wise Comparisions"
   ]
  },
  {
   "cell_type": "code",
   "execution_count": 56,
   "id": "b1361ebb",
   "metadata": {},
   "outputs": [
    {
     "data": {
      "text/plain": [
       "<seaborn.axisgrid.FacetGrid at 0x7ff7858d7df0>"
      ]
     },
     "execution_count": 56,
     "metadata": {},
     "output_type": "execute_result"
    },
    {
     "data": {
      "image/png": "[encoded data removed]",
      "text/plain": [
       "<Figure size 360x360 with 1 Axes>"
      ]
     },
     "metadata": {
      "needs_background": "light"
     },
     "output_type": "display_data"
    }
   ],
   "source": [
    "# Year wise relation of the total profit\n",
    "sns.relplot(data = df, x = 'DYear', y = 'Profit', kind = 'line')\n",
    "\n",
    "# More profits in the years 2008 - 2016 compared to the rest"
   ]
  },
  {
   "cell_type": "code",
   "execution_count": 57,
   "id": "1d9d10e4",
   "metadata": {},
   "outputs": [
    {
     "data": {
      "text/plain": [
       "<seaborn.axisgrid.FacetGrid at 0x7ff7862eb370>"
      ]
     },
     "execution_count": 57,
     "metadata": {},
     "output_type": "execute_result"
    },
    {
     "data": {
      "image/png": "[encoded data removed]",
      "text/plain": [
       "<Figure size 360x360 with 1 Axes>"
      ]
     },
     "metadata": {
      "needs_background": "light"
     },
     "output_type": "display_data"
    }
   ],
   "source": [
    "# Year wise observation of RainFall\n",
    "sns.relplot(data = df, x = 'DYear', y = 'Rainfall', kind = 'line')\n",
    "\n",
    "#rainfall was very less in 2005 - 2007 period in which time there were less profits and more rainfall -> better profit\n",
    "#(by comparing with above graph)"
   ]
  },
  {
   "cell_type": "code",
   "execution_count": 58,
   "id": "f3179a1d",
   "metadata": {},
   "outputs": [
    {
     "data": {
      "text/plain": [
       "<seaborn.axisgrid.FacetGrid at 0x7ff7854052b0>"
      ]
     },
     "execution_count": 58,
     "metadata": {},
     "output_type": "execute_result"
    },
    {
     "data": {
      "image/png": "[encoded data removed]",
      "text/plain": [
       "<Figure size 360x360 with 1 Axes>"
      ]
     },
     "metadata": {
      "needs_background": "light"
     },
     "output_type": "display_data"
    }
   ],
   "source": [
    "# Year wise observation of Avg_Temp\n",
    "sns.relplot(data = df, x = 'DYear', y = 'Avg_Temp', kind = 'line')\n",
    "\n",
    "## Temperature gradually increased from 2002 - 2016 and then decreased a bit again"
   ]
  },
  {
   "cell_type": "code",
   "execution_count": 59,
   "id": "28f61810",
   "metadata": {},
   "outputs": [
    {
     "data": {
      "text/plain": [
       "<seaborn.axisgrid.FacetGrid at 0x7ff7865fd4c0>"
      ]
     },
     "execution_count": 59,
     "metadata": {},
     "output_type": "execute_result"
    },
    {
     "data": {
      "image/png": "[encoded data removed]",
      "text/plain": [
       "<Figure size 360x360 with 1 Axes>"
      ]
     },
     "metadata": {
      "needs_background": "light"
     },
     "output_type": "display_data"
    }
   ],
   "source": [
    "# Year wise observation of Avg_Ph\n",
    "sns.relplot(data = df, x = 'DYear', y = 'Avg_Ph', kind = 'line')\n",
    "\n",
    "## Avergae ph value mostly decreased continuously and from comparing the graph which has the correlations with the \n",
    "## target label 'Profit' we can say that Ph doesn't impact that much on the final outcome of the crop"
   ]
  },
  {
   "cell_type": "code",
   "execution_count": 60,
   "id": "0eca156b",
   "metadata": {},
   "outputs": [
    {
     "data": {
      "text/plain": [
       "<seaborn.axisgrid.FacetGrid at 0x7ff786a68850>"
      ]
     },
     "execution_count": 60,
     "metadata": {},
     "output_type": "execute_result"
    },
    {
     "data": {
      "image/png": "[encoded data removed]",
      "text/plain": [
       "<Figure size 360x360 with 1 Axes>"
      ]
     },
     "metadata": {
      "needs_background": "light"
     },
     "output_type": "display_data"
    }
   ],
   "source": [
    "# Year wise observation of humidity values\n",
    "sns.relplot(data = df, x = 'DYear', y = 'Humidity', kind = 'line')\n",
    "\n",
    "## This somewhat resembles with 'Humidity' graph - we can say that rainfall and humidity are related"
   ]
  },
  {
   "cell_type": "markdown",
   "id": "9d7bfc23",
   "metadata": {},
   "source": [
    "## Crop wise observations\n",
    "#### As these are having 25+ categories each - its better to observe by values only rather than plotting and also as all the crops are more or less getting the same profits we will directly look at the other attributes related to crops"
   ]
  },
  {
   "cell_type": "code",
   "execution_count": 61,
   "id": "8489fffc",
   "metadata": {},
   "outputs": [
    {
     "data": {
      "text/plain": [
       "Crop\n",
       "turdal      -2.296230\n",
       "maize       -2.182161\n",
       "groundnut   -0.322593\n",
       "coffee      -0.190751\n",
       "castor      -0.182286\n",
       "sunflower   -0.182286\n",
       "sugarcane   -0.182286\n",
       "sesamum     -0.182286\n",
       "rice        -0.182286\n",
       "redgram     -0.182286\n",
       "ragi        -0.182286\n",
       "pulses      -0.182286\n",
       "potato      -0.182286\n",
       "mulberry    -0.182286\n",
       "jackfruit   -0.182286\n",
       "horsegram   -0.182286\n",
       "cotton      -0.182286\n",
       "coconut     -0.182286\n",
       "chilly      -0.182286\n",
       "cashew      -0.182286\n",
       "paddy        0.020223\n",
       "arecanut     0.350885\n",
       "pepper       0.593233\n",
       "ginger       1.276152\n",
       "tea          1.279894\n",
       "jowar        1.737234\n",
       "Name: Avg_Temp, dtype: float64"
      ]
     },
     "execution_count": 61,
     "metadata": {},
     "output_type": "execute_result"
    }
   ],
   "source": [
    "df.groupby('Crop').mean()['Avg_Temp'].sort_values()\n",
    "\n",
    "## turdal and maize require similar temperatures for flourishing\n",
    "## crops from groundnut to cashew are produced well in similar temperatures\n",
    "## Ginger and Tea are almost same, arecanut and pepper are also same\n",
    "## Jowar requires highest temperature"
   ]
  },
  {
   "cell_type": "code",
   "execution_count": 62,
   "id": "7a53e81b",
   "metadata": {},
   "outputs": [
    {
     "data": {
      "text/plain": [
       "Crop\n",
       "maize        50.000000\n",
       "cotton       50.000000\n",
       "coffee       51.076017\n",
       "sugarcane    52.970268\n",
       "paddy        55.829897\n",
       "cashew       56.000000\n",
       "ragi         56.000000\n",
       "arecanut     56.546961\n",
       "jowar        56.959746\n",
       "turdal       57.500000\n",
       "ginger       57.500000\n",
       "tea          57.500000\n",
       "pepper       70.376984\n",
       "groundnut    73.244792\n",
       "mulberry     78.875000\n",
       "rice         85.000000\n",
       "coconut      86.583333\n",
       "jackfruit    88.103448\n",
       "horsegram    95.000000\n",
       "pulses       95.000000\n",
       "chilly       95.000000\n",
       "redgram      95.000000\n",
       "sesamum      95.000000\n",
       "castor       95.000000\n",
       "sunflower    95.000000\n",
       "potato       95.000000\n",
       "Name: Humidity, dtype: float64"
      ]
     },
     "execution_count": 62,
     "metadata": {},
     "output_type": "execute_result"
    }
   ],
   "source": [
    "df.groupby('Crop').mean()['Humidity'].sort_values()\n",
    "\n",
    "# There are slightly more crops which require 70+ humidity - more humidity - better production"
   ]
  },
  {
   "cell_type": "code",
   "execution_count": 63,
   "id": "d72048b2",
   "metadata": {},
   "outputs": [
    {
     "data": {
      "text/plain": [
       "Crop\n",
       "jowar       -0.894017\n",
       "cotton      -0.647838\n",
       "sugarcane   -0.561498\n",
       "sesamum      0.062224\n",
       "castor       0.081004\n",
       "potato       0.085520\n",
       "mulberry     0.088973\n",
       "jackfruit    0.100987\n",
       "coconut      0.166836\n",
       "cashew       0.170030\n",
       "tea          0.181650\n",
       "ginger       0.202402\n",
       "groundnut    0.205192\n",
       "ragi         0.206337\n",
       "chilly       0.217173\n",
       "pepper       0.220599\n",
       "arecanut     0.223512\n",
       "pulses       0.229303\n",
       "rice         0.233338\n",
       "turdal       0.261657\n",
       "horsegram    0.284852\n",
       "sunflower    0.318026\n",
       "redgram      0.319868\n",
       "maize        0.398889\n",
       "paddy        1.122132\n",
       "coffee       1.131369\n",
       "Name: Rainfall, dtype: float64"
      ]
     },
     "execution_count": 63,
     "metadata": {},
     "output_type": "execute_result"
    }
   ],
   "source": [
    "df.groupby('Crop').mean()['Rainfall'].sort_values()\n",
    "\n",
    "## These are standaridized values - most of the values of rainfall are positive \n",
    "## Most of the crops grow well in high amounts of rainfall - more rainfall - better for most of the crops"
   ]
  },
  {
   "cell_type": "markdown",
   "id": "b674cfac",
   "metadata": {},
   "source": [
    "## Region wise observations"
   ]
  },
  {
   "cell_type": "code",
   "execution_count": 64,
   "id": "1d1a3e81",
   "metadata": {},
   "outputs": [
    {
     "data": {
      "text/plain": [
       "Region\n",
       "Bagalkot           2.407418\n",
       "Belgaum            2.364806\n",
       "Belgaum            2.370618\n",
       "Bidar              2.411430\n",
       "Bijapur            2.352527\n",
       "Chamrajnagar       2.342578\n",
       "Chikmagalur        2.411060\n",
       "Chitradurga        2.412446\n",
       "DakshinaKannada    2.459607\n",
       "Davanagere         2.427947\n",
       "Davangere          2.443831\n",
       "Dharwad            2.408512\n",
       "Gulbarga           2.352212\n",
       "Hassan             2.394755\n",
       "Haveri             2.408516\n",
       "Kalasa             2.375559\n",
       "Karkala            2.391470\n",
       "Kodagu             2.307265\n",
       "Kolar              2.351691\n",
       "Koppa              2.485807\n",
       "Mandya             2.394730\n",
       "Mangalore          2.468710\n",
       "Mysore             2.381978\n",
       "Raichur            2.405722\n",
       "Ramanagara         2.424166\n",
       "Shivmogga          2.288839\n",
       "Tumkur             2.408024\n",
       "Udupi              2.195744\n",
       "Uttar Kannada      2.408502\n",
       "Name: Profit_per_acre, dtype: float64"
      ]
     },
     "execution_count": 64,
     "metadata": {},
     "output_type": "execute_result"
    }
   ],
   "source": [
    "# Which region is seeing better profits?\n",
    "df.groupby('Region').mean()['Profit_per_acre']\n",
    "\n",
    "## Almost all of the regions are more or less having similar amounts of profits\n",
    "### koppa- highest\n",
    "### Udipi - lowest"
   ]
  },
  {
   "cell_type": "code",
   "execution_count": 65,
   "id": "b61c2ba2",
   "metadata": {},
   "outputs": [
    {
     "data": {
      "text/html": [
       "<div>\n",
       "<style scoped>\n",
       "    .dataframe tbody tr th:only-of-type {\n",
       "        vertical-align: middle;\n",
       "    }\n",
       "\n",
       "    .dataframe tbody tr th {\n",
       "        vertical-align: top;\n",
       "    }\n",
       "\n",
       "    .dataframe thead th {\n",
       "        text-align: right;\n",
       "    }\n",
       "</style>\n",
       "<table border=\"1\" class=\"dataframe\">\n",
       "  <thead>\n",
       "    <tr style=\"text-align: right;\">\n",
       "      <th></th>\n",
       "      <th>Rainfall</th>\n",
       "      <th>Humidity</th>\n",
       "      <th>Avg_Temp</th>\n",
       "      <th>Avg_Ph</th>\n",
       "    </tr>\n",
       "  </thead>\n",
       "  <tbody>\n",
       "    <tr>\n",
       "      <th>count</th>\n",
       "      <td>400.000000</td>\n",
       "      <td>400.0</td>\n",
       "      <td>400.000000</td>\n",
       "      <td>400.00</td>\n",
       "    </tr>\n",
       "    <tr>\n",
       "      <th>mean</th>\n",
       "      <td>0.213509</td>\n",
       "      <td>57.5</td>\n",
       "      <td>1.279894</td>\n",
       "      <td>6.75</td>\n",
       "    </tr>\n",
       "    <tr>\n",
       "      <th>std</th>\n",
       "      <td>0.421717</td>\n",
       "      <td>0.0</td>\n",
       "      <td>0.251069</td>\n",
       "      <td>0.00</td>\n",
       "    </tr>\n",
       "    <tr>\n",
       "      <th>min</th>\n",
       "      <td>-0.572025</td>\n",
       "      <td>57.5</td>\n",
       "      <td>1.029139</td>\n",
       "      <td>6.75</td>\n",
       "    </tr>\n",
       "    <tr>\n",
       "      <th>25%</th>\n",
       "      <td>-0.161584</td>\n",
       "      <td>57.5</td>\n",
       "      <td>1.029139</td>\n",
       "      <td>6.75</td>\n",
       "    </tr>\n",
       "    <tr>\n",
       "      <th>50%</th>\n",
       "      <td>0.265741</td>\n",
       "      <td>57.5</td>\n",
       "      <td>1.279894</td>\n",
       "      <td>6.75</td>\n",
       "    </tr>\n",
       "    <tr>\n",
       "      <th>75%</th>\n",
       "      <td>0.574452</td>\n",
       "      <td>57.5</td>\n",
       "      <td>1.530650</td>\n",
       "      <td>6.75</td>\n",
       "    </tr>\n",
       "    <tr>\n",
       "      <th>max</th>\n",
       "      <td>0.830507</td>\n",
       "      <td>57.5</td>\n",
       "      <td>1.530650</td>\n",
       "      <td>6.75</td>\n",
       "    </tr>\n",
       "  </tbody>\n",
       "</table>\n",
       "</div>"
      ],
      "text/plain": [
       "         Rainfall  Humidity    Avg_Temp  Avg_Ph\n",
       "count  400.000000     400.0  400.000000  400.00\n",
       "mean     0.213509      57.5    1.279894    6.75\n",
       "std      0.421717       0.0    0.251069    0.00\n",
       "min     -0.572025      57.5    1.029139    6.75\n",
       "25%     -0.161584      57.5    1.029139    6.75\n",
       "50%      0.265741      57.5    1.279894    6.75\n",
       "75%      0.574452      57.5    1.530650    6.75\n",
       "max      0.830507      57.5    1.530650    6.75"
      ]
     },
     "execution_count": 65,
     "metadata": {},
     "output_type": "execute_result"
    }
   ],
   "source": [
    "# seeing climatic conditions for highest profited region\n",
    "df[df['Region'] == 'Koppa' ].describe()[['Rainfall','Humidity','Avg_Temp','Avg_Ph']]"
   ]
  },
  {
   "cell_type": "code",
   "execution_count": 66,
   "id": "f669c277",
   "metadata": {},
   "outputs": [
    {
     "data": {
      "text/html": [
       "<div>\n",
       "<style scoped>\n",
       "    .dataframe tbody tr th:only-of-type {\n",
       "        vertical-align: middle;\n",
       "    }\n",
       "\n",
       "    .dataframe tbody tr th {\n",
       "        vertical-align: top;\n",
       "    }\n",
       "\n",
       "    .dataframe thead th {\n",
       "        text-align: right;\n",
       "    }\n",
       "</style>\n",
       "<table border=\"1\" class=\"dataframe\">\n",
       "  <thead>\n",
       "    <tr style=\"text-align: right;\">\n",
       "      <th></th>\n",
       "      <th>Rainfall</th>\n",
       "      <th>Humidity</th>\n",
       "      <th>Avg_Temp</th>\n",
       "      <th>Avg_Ph</th>\n",
       "    </tr>\n",
       "  </thead>\n",
       "  <tbody>\n",
       "    <tr>\n",
       "      <th>count</th>\n",
       "      <td>37.000000</td>\n",
       "      <td>37.0</td>\n",
       "      <td>3.700000e+01</td>\n",
       "      <td>37.000000</td>\n",
       "    </tr>\n",
       "    <tr>\n",
       "      <th>mean</th>\n",
       "      <td>1.456871</td>\n",
       "      <td>50.0</td>\n",
       "      <td>-1.822858e-01</td>\n",
       "      <td>7.027027</td>\n",
       "    </tr>\n",
       "    <tr>\n",
       "      <th>std</th>\n",
       "      <td>0.161615</td>\n",
       "      <td>0.0</td>\n",
       "      <td>8.441529e-17</td>\n",
       "      <td>0.407328</td>\n",
       "    </tr>\n",
       "    <tr>\n",
       "      <th>min</th>\n",
       "      <td>1.194396</td>\n",
       "      <td>50.0</td>\n",
       "      <td>-1.822858e-01</td>\n",
       "      <td>6.500000</td>\n",
       "    </tr>\n",
       "    <tr>\n",
       "      <th>25%</th>\n",
       "      <td>1.335119</td>\n",
       "      <td>50.0</td>\n",
       "      <td>-1.822858e-01</td>\n",
       "      <td>6.500000</td>\n",
       "    </tr>\n",
       "    <tr>\n",
       "      <th>50%</th>\n",
       "      <td>1.448842</td>\n",
       "      <td>50.0</td>\n",
       "      <td>-1.822858e-01</td>\n",
       "      <td>7.000000</td>\n",
       "    </tr>\n",
       "    <tr>\n",
       "      <th>75%</th>\n",
       "      <td>1.588626</td>\n",
       "      <td>50.0</td>\n",
       "      <td>-1.822858e-01</td>\n",
       "      <td>7.500000</td>\n",
       "    </tr>\n",
       "    <tr>\n",
       "      <th>max</th>\n",
       "      <td>1.721703</td>\n",
       "      <td>50.0</td>\n",
       "      <td>-1.822858e-01</td>\n",
       "      <td>7.500000</td>\n",
       "    </tr>\n",
       "  </tbody>\n",
       "</table>\n",
       "</div>"
      ],
      "text/plain": [
       "        Rainfall  Humidity      Avg_Temp     Avg_Ph\n",
       "count  37.000000      37.0  3.700000e+01  37.000000\n",
       "mean    1.456871      50.0 -1.822858e-01   7.027027\n",
       "std     0.161615       0.0  8.441529e-17   0.407328\n",
       "min     1.194396      50.0 -1.822858e-01   6.500000\n",
       "25%     1.335119      50.0 -1.822858e-01   6.500000\n",
       "50%     1.448842      50.0 -1.822858e-01   7.000000\n",
       "75%     1.588626      50.0 -1.822858e-01   7.500000\n",
       "max     1.721703      50.0 -1.822858e-01   7.500000"
      ]
     },
     "execution_count": 66,
     "metadata": {},
     "output_type": "execute_result"
    }
   ],
   "source": [
    "# seeing climatic conditions for lowest profited region\n",
    "df[df['Region'] == 'Udupi'].describe()[['Rainfall','Humidity','Avg_Temp','Avg_Ph']]"
   ]
  },
  {
   "cell_type": "code",
   "execution_count": 67,
   "id": "098b553c",
   "metadata": {},
   "outputs": [
    {
     "data": {
      "text/plain": [
       "Region\n",
       "Belgaum           -2.182161\n",
       "Kodagu            -1.257627\n",
       "Mysore            -0.384347\n",
       "Bagalkot          -0.182286\n",
       "Tumkur            -0.182286\n",
       "Shivmogga         -0.182286\n",
       "Ramanagara        -0.182286\n",
       "Mangalore         -0.182286\n",
       "Mandya            -0.182286\n",
       "Kolar             -0.182286\n",
       "Karkala           -0.182286\n",
       "Kalasa            -0.182286\n",
       "Udupi             -0.182286\n",
       "Uttar Kannada     -0.182286\n",
       "Davangere         -0.182286\n",
       "Davanagere        -0.182286\n",
       "DakshinaKannada   -0.182286\n",
       "Chamrajnagar      -0.182286\n",
       "Hassan            -0.182286\n",
       "Haveri            -0.182286\n",
       "Belgaum            0.140483\n",
       "Bijapur            0.176247\n",
       "Bidar              0.218428\n",
       "Chikmagalur        0.579307\n",
       "Chitradurga        1.152049\n",
       "Koppa              1.279894\n",
       "Gulbarga           2.088424\n",
       "Dharwad            2.088424\n",
       "Raichur            2.088424\n",
       "Name: Avg_Temp, dtype: float64"
      ]
     },
     "execution_count": 67,
     "metadata": {},
     "output_type": "execute_result"
    }
   ],
   "source": [
    "df.groupby('Region').mean()['Avg_Temp'].sort_values()\n",
    "\n",
    "## Most of the regions having lower tempertaures - on the whole we can say areas in karnataka are a bit cooler \n",
    "## and most of the 25 cropsin our data set do suit those conditions"
   ]
  },
  {
   "cell_type": "code",
   "execution_count": 68,
   "id": "71041334",
   "metadata": {},
   "outputs": [
    {
     "data": {
      "text/plain": [
       "Region\n",
       "Bagalkot           50.000000\n",
       "Raichur            50.000000\n",
       "Udupi              50.000000\n",
       "Hassan             50.000000\n",
       "Gulbarga           50.000000\n",
       "Dharwad            50.000000\n",
       "Davangere          50.000000\n",
       "Shivmogga          50.000000\n",
       "Tumkur             50.000000\n",
       "Chitradurga        50.000000\n",
       "Chikmagalur        50.000000\n",
       "Chamrajnagar       50.000000\n",
       "Bijapur            50.000000\n",
       "Bidar              50.000000\n",
       "Belgaum            50.000000\n",
       "Belgaum            50.000000\n",
       "Mandya             50.000000\n",
       "Kodagu             50.000000\n",
       "Uttar Kannada      56.000000\n",
       "DakshinaKannada    56.000000\n",
       "Koppa              57.500000\n",
       "Ramanagara         58.543478\n",
       "Mysore             67.179024\n",
       "Mangalore          85.000000\n",
       "Kolar              86.549296\n",
       "Karkala            88.060109\n",
       "Kalasa             95.000000\n",
       "Davanagere         95.000000\n",
       "Haveri             95.000000\n",
       "Name: Humidity, dtype: float64"
      ]
     },
     "execution_count": 68,
     "metadata": {},
     "output_type": "execute_result"
    }
   ],
   "source": [
    "df.groupby('Region').mean()['Humidity'].sort_values()\n",
    "\n",
    "## Most of the regions are having lesser humidity values - only 6 regions have 85+ humidity"
   ]
  },
  {
   "cell_type": "code",
   "execution_count": 69,
   "id": "5c2b3a2b",
   "metadata": {},
   "outputs": [
    {
     "data": {
      "text/plain": [
       "Region\n",
       "Raichur           -1.497694\n",
       "Bijapur           -1.311601\n",
       "Mandya            -1.102384\n",
       "Bagalkot          -1.096258\n",
       "Bidar             -1.081796\n",
       "Gulbarga          -0.886192\n",
       "Chamrajnagar      -0.455754\n",
       "Chitradurga       -0.395276\n",
       "Hassan            -0.373669\n",
       "Dharwad           -0.362749\n",
       "Mysore            -0.041427\n",
       "Kalasa             0.083089\n",
       "Karkala            0.112520\n",
       "Ramanagara         0.130766\n",
       "DakshinaKannada    0.188328\n",
       "Mangalore          0.209357\n",
       "Koppa              0.213509\n",
       "Uttar Kannada      0.221746\n",
       "Haveri             0.224134\n",
       "Davanagere         0.307648\n",
       "Kolar              0.355687\n",
       "Belgaum            0.398889\n",
       "Belgaum            1.306771\n",
       "Udupi              1.456871\n",
       "Davangere          1.461997\n",
       "Shivmogga          1.503049\n",
       "Tumkur             1.532044\n",
       "Chikmagalur        1.635065\n",
       "Kodagu             1.978234\n",
       "Name: Rainfall, dtype: float64"
      ]
     },
     "execution_count": 69,
     "metadata": {},
     "output_type": "execute_result"
    }
   ],
   "source": [
    "df.groupby('Region').mean()['Rainfall'].sort_values()\n",
    "\n",
    "## Most of the regions are having higher rainfall and there is an average distribution of rainfall across regions"
   ]
  },
  {
   "cell_type": "markdown",
   "id": "bcf463ae",
   "metadata": {},
   "source": [
    "### Looking at the investment and the Total value columns"
   ]
  },
  {
   "cell_type": "code",
   "execution_count": 70,
   "id": "0d253cb0",
   "metadata": {},
   "outputs": [
    {
     "data": {
      "text/plain": [
       "<AxesSubplot:ylabel='Density'>"
      ]
     },
     "execution_count": 70,
     "metadata": {},
     "output_type": "execute_result"
    },
    {
     "data": {
      "image/png": "[encoded data removed]",
      "text/plain": [
       "<Figure size 432x288 with 1 Axes>"
      ]
     },
     "metadata": {
      "needs_background": "light"
     },
     "output_type": "display_data"
    }
   ],
   "source": [
    "df['Investment'].plot.density()\n",
    "## Only some of the crops require more amount of money "
   ]
  },
  {
   "cell_type": "code",
   "execution_count": 71,
   "id": "8fa06f84",
   "metadata": {},
   "outputs": [
    {
     "data": {
      "text/plain": [
       "<AxesSubplot:ylabel='Density'>"
      ]
     },
     "execution_count": 71,
     "metadata": {},
     "output_type": "execute_result"
    },
    {
     "data": {
      "image/png": "[encoded data removed]",
      "text/plain": [
       "<Figure size 432x288 with 1 Axes>"
      ]
     },
     "metadata": {
      "needs_background": "light"
     },
     "output_type": "display_data"
    }
   ],
   "source": [
    "df['TotalValue'].plot.density()"
   ]
  },
  {
   "cell_type": "code",
   "execution_count": 72,
   "id": "481cfb33",
   "metadata": {},
   "outputs": [
    {
     "name": "stderr",
     "output_type": "stream",
     "text": [
      "/opt/anaconda3/lib/python3.9/site-packages/seaborn/_decorators.py:36: FutureWarning: Pass the following variables as keyword args: x, y. From version 0.12, the only valid positional argument will be `data`, and passing other arguments without an explicit keyword will result in an error or misinterpretation.\n",
      "  warnings.warn(\n"
     ]
    },
    {
     "data": {
      "text/plain": [
       "<AxesSubplot:xlabel='Lattitude', ylabel='Longitude'>"
      ]
     },
     "execution_count": 72,
     "metadata": {},
     "output_type": "execute_result"
    },
    {
     "data": {
      "image/png": "[encoded data removed]",
      "text/plain": [
       "<Figure size 1440x720 with 1 Axes>"
      ]
     },
     "metadata": {
      "needs_background": "light"
     },
     "output_type": "display_data"
    }
   ],
   "source": [
    "plt.figure(figsize = (20,10))\n",
    "sns.scatterplot(df['Lattitude'], df['Longitude'], hue = df['Avg_Ph'])"
   ]
  },
  {
   "cell_type": "code",
   "execution_count": 73,
   "id": "6779d038",
   "metadata": {},
   "outputs": [
    {
     "name": "stderr",
     "output_type": "stream",
     "text": [
      "/opt/anaconda3/lib/python3.9/site-packages/seaborn/_decorators.py:36: FutureWarning: Pass the following variables as keyword args: x, y. From version 0.12, the only valid positional argument will be `data`, and passing other arguments without an explicit keyword will result in an error or misinterpretation.\n",
      "  warnings.warn(\n"
     ]
    },
    {
     "data": {
      "text/plain": [
       "<AxesSubplot:xlabel='Lattitude', ylabel='Longitude'>"
      ]
     },
     "execution_count": 73,
     "metadata": {},
     "output_type": "execute_result"
    },
    {
     "data": {
      "image/png": "[encoded data removed]",
      "text/plain": [
       "<Figure size 1440x720 with 1 Axes>"
      ]
     },
     "metadata": {
      "needs_background": "light"
     },
     "output_type": "display_data"
    }
   ],
   "source": [
    "plt.figure(figsize = (20,10))\n",
    "sns.scatterplot(df['Lattitude'], df['Longitude'], hue = df['Humidity'])"
   ]
  },
  {
   "cell_type": "code",
   "execution_count": 74,
   "id": "8cee96cb",
   "metadata": {},
   "outputs": [
    {
     "name": "stderr",
     "output_type": "stream",
     "text": [
      "/opt/anaconda3/lib/python3.9/site-packages/seaborn/_decorators.py:36: FutureWarning: Pass the following variables as keyword args: x, y. From version 0.12, the only valid positional argument will be `data`, and passing other arguments without an explicit keyword will result in an error or misinterpretation.\n",
      "  warnings.warn(\n"
     ]
    },
    {
     "data": {
      "text/plain": [
       "<AxesSubplot:xlabel='Lattitude', ylabel='Longitude'>"
      ]
     },
     "execution_count": 74,
     "metadata": {},
     "output_type": "execute_result"
    },
    {
     "data": {
      "image/png": "[encoded data removed]",
      "text/plain": [
       "<Figure size 1440x720 with 1 Axes>"
      ]
     },
     "metadata": {
      "needs_background": "light"
     },
     "output_type": "display_data"
    }
   ],
   "source": [
    "plt.figure(figsize = (20,10))\n",
    "sns.scatterplot(df['Lattitude'], df['Longitude'], hue = df['Crop'])"
   ]
  },
  {
   "cell_type": "code",
   "execution_count": 75,
   "id": "4e8e886a",
   "metadata": {},
   "outputs": [],
   "source": [
    "## Nothing much intuitive by using the lattitude and longitude columns"
   ]
  },
  {
   "cell_type": "code",
   "execution_count": 76,
   "id": "d9188c4e",
   "metadata": {},
   "outputs": [
    {
     "data": {
      "text/html": [
       "<div>\n",
       "<style scoped>\n",
       "    .dataframe tbody tr th:only-of-type {\n",
       "        vertical-align: middle;\n",
       "    }\n",
       "\n",
       "    .dataframe tbody tr th {\n",
       "        vertical-align: top;\n",
       "    }\n",
       "\n",
       "    .dataframe thead th {\n",
       "        text-align: right;\n",
       "    }\n",
       "</style>\n",
       "<table border=\"1\" class=\"dataframe\">\n",
       "  <thead>\n",
       "    <tr style=\"text-align: right;\">\n",
       "      <th></th>\n",
       "      <th>Rainfall</th>\n",
       "      <th>Humidity</th>\n",
       "      <th>count</th>\n",
       "    </tr>\n",
       "    <tr>\n",
       "      <th>Crop</th>\n",
       "      <th></th>\n",
       "      <th></th>\n",
       "      <th></th>\n",
       "    </tr>\n",
       "  </thead>\n",
       "  <tbody>\n",
       "    <tr>\n",
       "      <th>coffee</th>\n",
       "      <td>1705.126338</td>\n",
       "      <td>51.076017</td>\n",
       "      <td>467</td>\n",
       "    </tr>\n",
       "    <tr>\n",
       "      <th>paddy</th>\n",
       "      <td>1558.886598</td>\n",
       "      <td>55.829897</td>\n",
       "      <td>485</td>\n",
       "    </tr>\n",
       "    <tr>\n",
       "      <th>maize</th>\n",
       "      <td>1104.700000</td>\n",
       "      <td>50.000000</td>\n",
       "      <td>57</td>\n",
       "    </tr>\n",
       "    <tr>\n",
       "      <th>sunflower</th>\n",
       "      <td>1086.161290</td>\n",
       "      <td>95.000000</td>\n",
       "      <td>62</td>\n",
       "    </tr>\n",
       "    <tr>\n",
       "      <th>redgram</th>\n",
       "      <td>1085.492063</td>\n",
       "      <td>95.000000</td>\n",
       "      <td>63</td>\n",
       "    </tr>\n",
       "    <tr>\n",
       "      <th>horsegram</th>\n",
       "      <td>1073.693548</td>\n",
       "      <td>95.000000</td>\n",
       "      <td>62</td>\n",
       "    </tr>\n",
       "  </tbody>\n",
       "</table>\n",
       "</div>"
      ],
      "text/plain": [
       "              Rainfall   Humidity  count\n",
       "Crop                                    \n",
       "coffee     1705.126338  51.076017    467\n",
       "paddy      1558.886598  55.829897    485\n",
       "maize      1104.700000  50.000000     57\n",
       "sunflower  1086.161290  95.000000     62\n",
       "redgram    1085.492063  95.000000     63\n",
       "horsegram  1073.693548  95.000000     62"
      ]
     },
     "execution_count": 76,
     "metadata": {},
     "output_type": "execute_result"
    }
   ],
   "source": [
    "z = df_2.groupby('Crop').mean()[['Rainfall','Humidity']].sort_values(by = 'Rainfall', ascending = False)[:6]\n",
    "z['count'] = df_2['Crop'].value_counts()[z.index].values\n",
    "z"
   ]
  },
  {
   "cell_type": "code",
   "execution_count": 77,
   "id": "b41bfa34",
   "metadata": {},
   "outputs": [
    {
     "data": {
      "text/plain": [
       "<AxesSubplot:xlabel='Rainfall', ylabel='Humidity'>"
      ]
     },
     "execution_count": 77,
     "metadata": {},
     "output_type": "execute_result"
    },
    {
     "data": {
      "image/png": "[encoded data removed]",
      "text/plain": [
       "<Figure size 720x432 with 1 Axes>"
      ]
     },
     "metadata": {
      "needs_background": "light"
     },
     "output_type": "display_data"
    }
   ],
   "source": [
    "plt.figure(figsize = (10,6))\n",
    "sns.scatterplot(data = z, x = z['Rainfall'], y = z['Humidity'],hue = z.index, size = z['count'])"
   ]
  },
  {
   "cell_type": "code",
   "execution_count": 78,
   "id": "10b9c09f",
   "metadata": {},
   "outputs": [
    {
     "data": {
      "text/html": [
       "<div>\n",
       "<style scoped>\n",
       "    .dataframe tbody tr th:only-of-type {\n",
       "        vertical-align: middle;\n",
       "    }\n",
       "\n",
       "    .dataframe tbody tr th {\n",
       "        vertical-align: top;\n",
       "    }\n",
       "\n",
       "    .dataframe thead th {\n",
       "        text-align: right;\n",
       "    }\n",
       "</style>\n",
       "<table border=\"1\" class=\"dataframe\">\n",
       "  <thead>\n",
       "    <tr style=\"text-align: right;\">\n",
       "      <th></th>\n",
       "      <th>Avg_Temp</th>\n",
       "      <th>Avg_Ph</th>\n",
       "      <th>count</th>\n",
       "    </tr>\n",
       "    <tr>\n",
       "      <th>Crop</th>\n",
       "      <th></th>\n",
       "      <th></th>\n",
       "      <th></th>\n",
       "    </tr>\n",
       "  </thead>\n",
       "  <tbody>\n",
       "    <tr>\n",
       "      <th>jowar</th>\n",
       "      <td>30.113347</td>\n",
       "      <td>6.956568</td>\n",
       "      <td>472</td>\n",
       "    </tr>\n",
       "    <tr>\n",
       "      <th>tea</th>\n",
       "      <td>29.750000</td>\n",
       "      <td>6.750000</td>\n",
       "      <td>66</td>\n",
       "    </tr>\n",
       "    <tr>\n",
       "      <th>ginger</th>\n",
       "      <td>29.746269</td>\n",
       "      <td>6.750000</td>\n",
       "      <td>67</td>\n",
       "    </tr>\n",
       "    <tr>\n",
       "      <th>pepper</th>\n",
       "      <td>28.928571</td>\n",
       "      <td>6.839286</td>\n",
       "      <td>126</td>\n",
       "    </tr>\n",
       "    <tr>\n",
       "      <th>arecanut</th>\n",
       "      <td>28.638122</td>\n",
       "      <td>6.779006</td>\n",
       "      <td>181</td>\n",
       "    </tr>\n",
       "    <tr>\n",
       "      <th>paddy</th>\n",
       "      <td>28.242268</td>\n",
       "      <td>6.925258</td>\n",
       "      <td>485</td>\n",
       "    </tr>\n",
       "  </tbody>\n",
       "</table>\n",
       "</div>"
      ],
      "text/plain": [
       "           Avg_Temp    Avg_Ph  count\n",
       "Crop                                \n",
       "jowar     30.113347  6.956568    472\n",
       "tea       29.750000  6.750000     66\n",
       "ginger    29.746269  6.750000     67\n",
       "pepper    28.928571  6.839286    126\n",
       "arecanut  28.638122  6.779006    181\n",
       "paddy     28.242268  6.925258    485"
      ]
     },
     "execution_count": 78,
     "metadata": {},
     "output_type": "execute_result"
    }
   ],
   "source": [
    "z_2 = df_2.groupby('Crop').mean()[['Avg_Temp','Avg_Ph']].sort_values(by = 'Avg_Temp', ascending = False)[:6]\n",
    "z_2['count'] = df_2['Crop'].value_counts()[z_2.index].values\n",
    "z_2"
   ]
  },
  {
   "cell_type": "code",
   "execution_count": 79,
   "id": "5b72f3cf",
   "metadata": {},
   "outputs": [
    {
     "data": {
      "text/plain": [
       "<AxesSubplot:xlabel='Avg_Temp', ylabel='Avg_Ph'>"
      ]
     },
     "execution_count": 79,
     "metadata": {},
     "output_type": "execute_result"
    },
    {
     "data": {
      "image/png": "[encoded data removed]",
      "text/plain": [
       "<Figure size 720x432 with 1 Axes>"
      ]
     },
     "metadata": {
      "needs_background": "light"
     },
     "output_type": "display_data"
    }
   ],
   "source": [
    "plt.figure(figsize = (10,6))\n",
    "sns.scatterplot(data = z_2, x = z_2['Avg_Temp'], y = z_2['Avg_Ph'],hue = z_2.index, size = z_2['count'])"
   ]
  },
  {
   "cell_type": "code",
   "execution_count": 80,
   "id": "995a91ff",
   "metadata": {},
   "outputs": [
    {
     "data": {
      "text/html": [
       "<div>\n",
       "<style scoped>\n",
       "    .dataframe tbody tr th:only-of-type {\n",
       "        vertical-align: middle;\n",
       "    }\n",
       "\n",
       "    .dataframe tbody tr th {\n",
       "        vertical-align: top;\n",
       "    }\n",
       "\n",
       "    .dataframe thead th {\n",
       "        text-align: right;\n",
       "    }\n",
       "</style>\n",
       "<table border=\"1\" class=\"dataframe\">\n",
       "  <thead>\n",
       "    <tr style=\"text-align: right;\">\n",
       "      <th></th>\n",
       "      <th>Rainfall</th>\n",
       "      <th>Humidity</th>\n",
       "      <th>count</th>\n",
       "    </tr>\n",
       "    <tr>\n",
       "      <th>Region</th>\n",
       "      <th></th>\n",
       "      <th></th>\n",
       "      <th></th>\n",
       "    </tr>\n",
       "  </thead>\n",
       "  <tbody>\n",
       "    <tr>\n",
       "      <th>Kodagu</th>\n",
       "      <td>2298.077778</td>\n",
       "      <td>50.0</td>\n",
       "      <td>180</td>\n",
       "    </tr>\n",
       "    <tr>\n",
       "      <th>Chikmagalur</th>\n",
       "      <td>1898.708333</td>\n",
       "      <td>50.0</td>\n",
       "      <td>120</td>\n",
       "    </tr>\n",
       "    <tr>\n",
       "      <th>Tumkur</th>\n",
       "      <td>1803.550000</td>\n",
       "      <td>50.0</td>\n",
       "      <td>40</td>\n",
       "    </tr>\n",
       "    <tr>\n",
       "      <th>Shivmogga</th>\n",
       "      <td>1777.800000</td>\n",
       "      <td>50.0</td>\n",
       "      <td>40</td>\n",
       "    </tr>\n",
       "    <tr>\n",
       "      <th>Davangere</th>\n",
       "      <td>1742.200000</td>\n",
       "      <td>50.0</td>\n",
       "      <td>40</td>\n",
       "    </tr>\n",
       "    <tr>\n",
       "      <th>Udupi</th>\n",
       "      <td>1736.081081</td>\n",
       "      <td>50.0</td>\n",
       "      <td>37</td>\n",
       "    </tr>\n",
       "  </tbody>\n",
       "</table>\n",
       "</div>"
      ],
      "text/plain": [
       "                Rainfall  Humidity  count\n",
       "Region                                   \n",
       "Kodagu       2298.077778      50.0    180\n",
       "Chikmagalur  1898.708333      50.0    120\n",
       "Tumkur       1803.550000      50.0     40\n",
       "Shivmogga    1777.800000      50.0     40\n",
       "Davangere    1742.200000      50.0     40\n",
       "Udupi        1736.081081      50.0     37"
      ]
     },
     "execution_count": 80,
     "metadata": {},
     "output_type": "execute_result"
    }
   ],
   "source": [
    "z_3 = df_2.groupby('Region').mean()[['Rainfall','Humidity']].sort_values(by = 'Rainfall', ascending = False)[:6]\n",
    "z_3['count'] = df_2['Region'].value_counts()[z_3.index].values\n",
    "z_3"
   ]
  },
  {
   "cell_type": "code",
   "execution_count": 81,
   "id": "01dbe674",
   "metadata": {},
   "outputs": [
    {
     "data": {
      "text/plain": [
       "<AxesSubplot:xlabel='Rainfall', ylabel='Humidity'>"
      ]
     },
     "execution_count": 81,
     "metadata": {},
     "output_type": "execute_result"
    },
    {
     "data": {
      "image/png": "[encoded data removed]",
      "text/plain": [
       "<Figure size 720x432 with 1 Axes>"
      ]
     },
     "metadata": {
      "needs_background": "light"
     },
     "output_type": "display_data"
    }
   ],
   "source": [
    "plt.figure(figsize = (10,6))\n",
    "sns.scatterplot(data = z_3, x = z_3['Rainfall'], y = z_3['Humidity'],hue = z_3.index, size = z_3['count'])"
   ]
  },
  {
   "cell_type": "code",
   "execution_count": 82,
   "id": "0562a22e",
   "metadata": {},
   "outputs": [
    {
     "data": {
      "text/html": [
       "<div>\n",
       "<style scoped>\n",
       "    .dataframe tbody tr th:only-of-type {\n",
       "        vertical-align: middle;\n",
       "    }\n",
       "\n",
       "    .dataframe tbody tr th {\n",
       "        vertical-align: top;\n",
       "    }\n",
       "\n",
       "    .dataframe thead th {\n",
       "        text-align: right;\n",
       "    }\n",
       "</style>\n",
       "<table border=\"1\" class=\"dataframe\">\n",
       "  <thead>\n",
       "    <tr style=\"text-align: right;\">\n",
       "      <th></th>\n",
       "      <th>Avg_Temp</th>\n",
       "      <th>Avg_Ph</th>\n",
       "      <th>count</th>\n",
       "    </tr>\n",
       "    <tr>\n",
       "      <th>Region</th>\n",
       "      <th></th>\n",
       "      <th></th>\n",
       "      <th></th>\n",
       "    </tr>\n",
       "  </thead>\n",
       "  <tbody>\n",
       "    <tr>\n",
       "      <th>Dharwad</th>\n",
       "      <td>30.500000</td>\n",
       "      <td>7.026316</td>\n",
       "      <td>57</td>\n",
       "    </tr>\n",
       "    <tr>\n",
       "      <th>Gulbarga</th>\n",
       "      <td>30.500000</td>\n",
       "      <td>6.903509</td>\n",
       "      <td>57</td>\n",
       "    </tr>\n",
       "    <tr>\n",
       "      <th>Raichur</th>\n",
       "      <td>30.500000</td>\n",
       "      <td>6.947368</td>\n",
       "      <td>57</td>\n",
       "    </tr>\n",
       "    <tr>\n",
       "      <th>Koppa</th>\n",
       "      <td>29.750000</td>\n",
       "      <td>6.750000</td>\n",
       "      <td>400</td>\n",
       "    </tr>\n",
       "    <tr>\n",
       "      <th>Chitradurga</th>\n",
       "      <td>29.469072</td>\n",
       "      <td>6.969072</td>\n",
       "      <td>97</td>\n",
       "    </tr>\n",
       "    <tr>\n",
       "      <th>Chikmagalur</th>\n",
       "      <td>29.000000</td>\n",
       "      <td>7.008333</td>\n",
       "      <td>120</td>\n",
       "    </tr>\n",
       "  </tbody>\n",
       "</table>\n",
       "</div>"
      ],
      "text/plain": [
       "              Avg_Temp    Avg_Ph  count\n",
       "Region                                 \n",
       "Dharwad      30.500000  7.026316     57\n",
       "Gulbarga     30.500000  6.903509     57\n",
       "Raichur      30.500000  6.947368     57\n",
       "Koppa        29.750000  6.750000    400\n",
       "Chitradurga  29.469072  6.969072     97\n",
       "Chikmagalur  29.000000  7.008333    120"
      ]
     },
     "execution_count": 82,
     "metadata": {},
     "output_type": "execute_result"
    }
   ],
   "source": [
    "z_4 = df_2.groupby('Region').mean()[['Avg_Temp','Avg_Ph']].sort_values(by = 'Avg_Temp', ascending = False)[:6]\n",
    "z_4['count'] = df_2['Region'].value_counts()[z_4.index].values\n",
    "z_4"
   ]
  },
  {
   "cell_type": "code",
   "execution_count": 83,
   "id": "40de3e03",
   "metadata": {},
   "outputs": [
    {
     "data": {
      "text/plain": [
       "<AxesSubplot:xlabel='Avg_Temp', ylabel='Avg_Ph'>"
      ]
     },
     "execution_count": 83,
     "metadata": {},
     "output_type": "execute_result"
    },
    {
     "data": {
      "image/png": "[encoded data removed]",
      "text/plain": [
       "<Figure size 720x432 with 1 Axes>"
      ]
     },
     "metadata": {
      "needs_background": "light"
     },
     "output_type": "display_data"
    }
   ],
   "source": [
    "plt.figure(figsize = (10,6))\n",
    "sns.scatterplot(data = z_4, x = z_4['Avg_Temp'], y = z_4['Avg_Ph'],hue = z_4.index, size = z_4['count'])"
   ]
  },
  {
   "cell_type": "code",
   "execution_count": 84,
   "id": "ce0afdba",
   "metadata": {},
   "outputs": [],
   "source": [
    "from sklearn.feature_selection import SelectKBest\n",
    "from sklearn.feature_selection import f_classif\n",
    "from matplotlib import pyplot"
   ]
  },
  {
   "cell_type": "code",
   "execution_count": 85,
   "id": "05111554",
   "metadata": {},
   "outputs": [],
   "source": [
    "X_train = df[['Rainfall', 'Humidity', 'Avg_Temp', 'Avg_Ph']]\n",
    "y_train = df['Profit_per_acre']"
   ]
  },
  {
   "cell_type": "code",
   "execution_count": 86,
   "id": "e948f052",
   "metadata": {},
   "outputs": [
    {
     "data": {
      "image/png": "[encoded data removed]",
      "text/plain": [
       "<Figure size 576x576 with 1 Axes>"
      ]
     },
     "metadata": {
      "needs_background": "light"
     },
     "output_type": "display_data"
    }
   ],
   "source": [
    "fs = SelectKBest(score_func=f_classif, k='all')\n",
    "fs.fit(X_train, y_train)\n",
    "feature_names=X_train.columns\n",
    "plt.rcParams[\"figure.figsize\"] = (8,8)\n",
    "pyplot.bar([i for i in X_train.columns], fs.scores_)\n",
    "pyplot.show()"
   ]
  },
  {
   "cell_type": "code",
   "execution_count": 87,
   "id": "51065faa",
   "metadata": {},
   "outputs": [
    {
     "data": {
      "text/plain": [
       "DYear                                                           2010\n",
       "Rainfall                                                    0.112304\n",
       "Region                                                        Mysore\n",
       "Lattitude                                                     12.211\n",
       "Longitude                                                    76.9038\n",
       "Humidity                                                        85.0\n",
       "Fertilizer         200g of urea 200g of rock phosphate and 230 g ...\n",
       "Crop                                                       groundnut\n",
       "Month                                                           June\n",
       "Investment                                                       0.0\n",
       "MarketPrice                                                   5604.0\n",
       "TotalValue                                                 11.319083\n",
       "Profit                                                     11.135987\n",
       "Seeds                                                           90.0\n",
       "PerAcre                                                            6\n",
       "TTMarket                                                           3\n",
       "Avg_Temp                                                     1.53065\n",
       "Avg_Ph                                                          6.75\n",
       "Profit_per_acre                                             1.855998\n",
       "Name: 0, dtype: object"
      ]
     },
     "execution_count": 87,
     "metadata": {},
     "output_type": "execute_result"
    }
   ],
   "source": [
    "df.iloc[0]"
   ]
  },
  {
   "cell_type": "code",
   "execution_count": 88,
   "id": "98b85b3f",
   "metadata": {},
   "outputs": [],
   "source": [
    "dummies = pd.get_dummies(df['Month'], drop_first = True)\n",
    "df = pd.concat([df.drop('Month', axis = 1), dummies], axis = 1)"
   ]
  },
  {
   "cell_type": "code",
   "execution_count": 89,
   "id": "98545c98",
   "metadata": {},
   "outputs": [],
   "source": [
    "df4 = df.copy()"
   ]
  },
  {
   "cell_type": "code",
   "execution_count": 90,
   "id": "156a8ccc",
   "metadata": {},
   "outputs": [],
   "source": [
    "dummies = pd.get_dummies(df['Region'], drop_first = True)\n",
    "df = pd.concat([df.drop('Region', axis = 1), dummies], axis = 1)"
   ]
  },
  {
   "cell_type": "code",
   "execution_count": 91,
   "id": "0cc21c90",
   "metadata": {},
   "outputs": [],
   "source": [
    "dummies = pd.get_dummies(df['Humidity'], drop_first = True)\n",
    "df = pd.concat([df.drop('Humidity', axis = 1), dummies], axis = 1)"
   ]
  },
  {
   "cell_type": "code",
   "execution_count": 92,
   "id": "d270e48c",
   "metadata": {},
   "outputs": [],
   "source": [
    "df.drop(['DYear','Lattitude', 'Longitude','Fertilizer','MarketPrice', 'TotalValue', 'Profit', 'Seeds',\n",
    "        'PerAcre', 'TTMarket'], axis = 1, inplace = True)"
   ]
  },
  {
   "cell_type": "code",
   "execution_count": 93,
   "id": "63d50fab",
   "metadata": {},
   "outputs": [
    {
     "data": {
      "text/plain": [
       "Index([       'Rainfall',            'Crop',      'Investment',\n",
       "              'Avg_Temp',          'Avg_Ph', 'Profit_per_acre',\n",
       "                  'July',            'June',         'October',\n",
       "             'September',         'Belgaum',        'Belgaum ',\n",
       "                 'Bidar',         'Bijapur',    'Chamrajnagar',\n",
       "           'Chikmagalur',     'Chitradurga', 'DakshinaKannada',\n",
       "            'Davanagere',       'Davangere',         'Dharwad',\n",
       "              'Gulbarga',          'Hassan',          'Haveri',\n",
       "                'Kalasa',         'Karkala',          'Kodagu',\n",
       "                 'Kolar',           'Koppa',          'Mandya',\n",
       "             'Mangalore',          'Mysore',         'Raichur',\n",
       "            'Ramanagara',       'Shivmogga',          'Tumkur',\n",
       "                 'Udupi',   'Uttar Kannada',              56.0,\n",
       "                    57.5,              85.0,              95.0],\n",
       "      dtype='object')"
      ]
     },
     "execution_count": 93,
     "metadata": {},
     "output_type": "execute_result"
    }
   ],
   "source": [
    "df.columns"
   ]
  },
  {
   "cell_type": "code",
   "execution_count": 94,
   "id": "570be393",
   "metadata": {},
   "outputs": [],
   "source": [
    "df3 = df.copy()"
   ]
  },
  {
   "cell_type": "code",
   "execution_count": 95,
   "id": "a3b43b44",
   "metadata": {},
   "outputs": [],
   "source": [
    "df4 = df.copy()"
   ]
  },
  {
   "cell_type": "code",
   "execution_count": 96,
   "id": "7fbd52c2",
   "metadata": {},
   "outputs": [],
   "source": [
    "dummies = pd.get_dummies(df3['Crop'], drop_first = True)\n",
    "df3 = pd.concat([df3.drop('Crop', axis = 1), dummies], axis = 1)"
   ]
  },
  {
   "cell_type": "code",
   "execution_count": 97,
   "id": "123ab47f",
   "metadata": {},
   "outputs": [],
   "source": [
    "kharif = ['maize','cotton','rice','tea','sesamum','coffee','paddy', 'jowar','turdal','groundnut','ginger',\n",
    "         'redgram','chilly','arecanut','jackfruit','coconut','castor','ragi','horsegram','sunflower']\n",
    "rabi = ['potato','pepper','cashew','mulberry']\n",
    "zaid = ['sugarcane','pulses']"
   ]
  },
  {
   "cell_type": "code",
   "execution_count": 98,
   "id": "eb0ccf50",
   "metadata": {},
   "outputs": [],
   "source": [
    "def crop_fn(x):\n",
    "    if x in kharif:\n",
    "        return 'kharif'\n",
    "    elif x in rabi:\n",
    "        return 'rabi'\n",
    "    else:\n",
    "        return 'zaid'"
   ]
  },
  {
   "cell_type": "code",
   "execution_count": 99,
   "id": "0dfe547b",
   "metadata": {},
   "outputs": [],
   "source": [
    "df['Crop'] = df['Crop'].apply(lambda x : crop_fn(x))"
   ]
  },
  {
   "cell_type": "code",
   "execution_count": 100,
   "id": "289a4aeb",
   "metadata": {},
   "outputs": [
    {
     "data": {
      "text/plain": [
       "kharif    4348\n",
       "zaid      1076\n",
       "rabi       343\n",
       "Name: Crop, dtype: int64"
      ]
     },
     "execution_count": 100,
     "metadata": {},
     "output_type": "execute_result"
    }
   ],
   "source": [
    "df['Crop'].value_counts()"
   ]
  },
  {
   "cell_type": "code",
   "execution_count": 101,
   "id": "693e0458",
   "metadata": {},
   "outputs": [
    {
     "data": {
      "text/plain": [
       "Index([       'Rainfall',            'Crop',      'Investment',\n",
       "              'Avg_Temp',          'Avg_Ph', 'Profit_per_acre',\n",
       "                  'July',            'June',         'October',\n",
       "             'September',         'Belgaum',        'Belgaum ',\n",
       "                 'Bidar',         'Bijapur',    'Chamrajnagar',\n",
       "           'Chikmagalur',     'Chitradurga', 'DakshinaKannada',\n",
       "            'Davanagere',       'Davangere',         'Dharwad',\n",
       "              'Gulbarga',          'Hassan',          'Haveri',\n",
       "                'Kalasa',         'Karkala',          'Kodagu',\n",
       "                 'Kolar',           'Koppa',          'Mandya',\n",
       "             'Mangalore',          'Mysore',         'Raichur',\n",
       "            'Ramanagara',       'Shivmogga',          'Tumkur',\n",
       "                 'Udupi',   'Uttar Kannada',              56.0,\n",
       "                    57.5,              85.0,              95.0],\n",
       "      dtype='object')"
      ]
     },
     "execution_count": 101,
     "metadata": {},
     "output_type": "execute_result"
    }
   ],
   "source": [
    "df.columns"
   ]
  },
  {
   "cell_type": "code",
   "execution_count": 143,
   "id": "e9edcf7e",
   "metadata": {},
   "outputs": [],
   "source": [
    "df5 = df.copy()"
   ]
  },
  {
   "cell_type": "code",
   "execution_count": 146,
   "id": "382c94c2",
   "metadata": {},
   "outputs": [],
   "source": [
    " from sklearn import preprocessing\n",
    "le = preprocessing.LabelEncoder()\n",
    "df['Crop'] = le.fit_transform(df['Crop'])"
   ]
  },
  {
   "cell_type": "code",
   "execution_count": 163,
   "id": "cada9b32",
   "metadata": {},
   "outputs": [
    {
     "data": {
      "text/plain": [
       "Index([       'Rainfall',            'Crop',      'Investment',\n",
       "              'Avg_Temp',          'Avg_Ph', 'Profit_per_acre',\n",
       "                  'July',            'June',         'October',\n",
       "             'September',         'Belgaum',        'Belgaum ',\n",
       "                 'Bidar',         'Bijapur',    'Chamrajnagar',\n",
       "           'Chikmagalur',     'Chitradurga', 'DakshinaKannada',\n",
       "            'Davanagere',       'Davangere',         'Dharwad',\n",
       "              'Gulbarga',          'Hassan',          'Haveri',\n",
       "                'Kalasa',         'Karkala',          'Kodagu',\n",
       "                 'Kolar',           'Koppa',          'Mandya',\n",
       "             'Mangalore',          'Mysore',         'Raichur',\n",
       "            'Ramanagara',       'Shivmogga',          'Tumkur',\n",
       "                 'Udupi',   'Uttar Kannada',              56.0,\n",
       "                    57.5,              85.0,              95.0],\n",
       "      dtype='object')"
      ]
     },
     "execution_count": 163,
     "metadata": {},
     "output_type": "execute_result"
    }
   ],
   "source": [
    "df.columns"
   ]
  },
  {
   "cell_type": "code",
   "execution_count": 168,
   "id": "8c15d7d8",
   "metadata": {},
   "outputs": [],
   "source": [
    "X_clsf = df[['Rainfall','Avg_Temp','Avg_Ph','Profit_per_acre','Belgaum','Belgaum ', 'Bidar', 'Bijapur', 'Chamrajnagar', 'Chikmagalur',\n",
    "            'Chitradurga', 'DakshinaKannada', 'Davanagere', 'Davangere', 'Dharwad',\n",
    "           'Gulbarga', 'Hassan', 'Haveri', 'Kalasa', 'Karkala', 'Kodagu', 'Kolar','Koppa', 'Mandya', 'Mangalore', \n",
    "             'Mysore', 'Raichur', 'Ramanagara','Shivmogga', 'Tumkur', 'Udupi', 'Uttar Kannada']]\n",
    "y_clsf = df['Crop']"
   ]
  },
  {
   "cell_type": "code",
   "execution_count": 103,
   "id": "52689477",
   "metadata": {},
   "outputs": [],
   "source": [
    "X_reg = df3[['Rainfall','Avg_Temp','Avg_Ph','July', 'June', 'October', 'September', \n",
    "             'Belgaum','Belgaum ', 'Bidar', 'Bijapur', 'Chamrajnagar', 'Chikmagalur',\n",
    "            'Chitradurga', 'DakshinaKannada', 'Davanagere', 'Davangere', 'Dharwad',\n",
    "           'Gulbarga', 'Hassan', 'Haveri', 'Kalasa', 'Karkala', 'Kodagu', 'Kolar','Koppa', 'Mandya', 'Mangalore', \n",
    "             'Mysore', 'Raichur', 'Ramanagara','Shivmogga', 'Tumkur', 'Udupi', 'Uttar Kannada','cashew', 'castor',\n",
    "       'chilly', 'coconut', 'coffee', 'cotton', 'ginger', 'groundnut',\n",
    "       'horsegram', 'jackfruit', 'jowar', 'maize', 'mulberry', 'paddy',\n",
    "       'pepper', 'potato', 'pulses', 'ragi', 'redgram', 'rice', 'sesamum',\n",
    "       'sugarcane', 'sunflower', 'tea', 'turdal',56.0,57.5,85.0,95.0]]\n",
    "y_reg = df3['Profit_per_acre']"
   ]
  },
  {
   "cell_type": "code",
   "execution_count": 169,
   "id": "df4ff5bb",
   "metadata": {},
   "outputs": [],
   "source": [
    "from sklearn.model_selection import train_test_split\n",
    "X_train_clsf, X_test_clsf, y_train_clsf, y_test_clsf = train_test_split(X_clsf, y_clsf, test_size=0.20)\n",
    "X_train_reg, X_test_reg, y_train_reg, y_test_reg = train_test_split(X_reg, y_reg, test_size=0.20)"
   ]
  },
  {
   "cell_type": "code",
   "execution_count": 170,
   "id": "cfcfbd25",
   "metadata": {},
   "outputs": [],
   "source": [
    "from sklearn.ensemble import GradientBoostingClassifier\n",
    "grad = GradientBoostingClassifier().fit(X_train_clsf, y_train_clsf)\n",
    "y_pred_clsf = grad.predict(X_test_clsf)"
   ]
  },
  {
   "cell_type": "code",
   "execution_count": 171,
   "id": "402e80e1",
   "metadata": {},
   "outputs": [
    {
     "name": "stdout",
     "output_type": "stream",
     "text": [
      "[[801   4  78]\n",
      " [ 49  20   0]\n",
      " [120  11  71]]\n",
      "              precision    recall  f1-score   support\n",
      "\n",
      "           0       0.83      0.91      0.86       883\n",
      "           1       0.57      0.29      0.38        69\n",
      "           2       0.48      0.35      0.40       202\n",
      "\n",
      "    accuracy                           0.77      1154\n",
      "   macro avg       0.62      0.52      0.55      1154\n",
      "weighted avg       0.75      0.77      0.76      1154\n",
      "\n"
     ]
    }
   ],
   "source": [
    "from sklearn.metrics import classification_report, confusion_matrix\n",
    "print(confusion_matrix(y_test_clsf, y_pred_clsf)) \n",
    "print(classification_report(y_test_clsf, y_pred_clsf))"
   ]
  },
  {
   "cell_type": "code",
   "execution_count": 107,
   "id": "f88abed4",
   "metadata": {},
   "outputs": [
    {
     "name": "stderr",
     "output_type": "stream",
     "text": [
      "/opt/anaconda3/lib/python3.9/site-packages/sklearn/utils/validation.py:1688: FutureWarning: Feature names only support names that are all strings. Got feature names with dtypes: ['float', 'str']. An error will be raised in 1.2.\n",
      "  warnings.warn(\n",
      "/opt/anaconda3/lib/python3.9/site-packages/sklearn/utils/validation.py:1688: FutureWarning: Feature names only support names that are all strings. Got feature names with dtypes: ['float', 'str']. An error will be raised in 1.2.\n",
      "  warnings.warn(\n"
     ]
    }
   ],
   "source": [
    "from sklearn.linear_model import Ridge\n",
    "rid = Ridge() \n",
    "rid.fit(X_train_reg, y_train_reg)\n",
    "rid_pred = rid.predict(X_test_reg)"
   ]
  },
  {
   "cell_type": "code",
   "execution_count": 108,
   "id": "8641b54d",
   "metadata": {},
   "outputs": [
    {
     "name": "stdout",
     "output_type": "stream",
     "text": [
      "0.6352015007841084\n"
     ]
    }
   ],
   "source": [
    "import math\n",
    "from sklearn.metrics import mean_squared_error\n",
    "print(math.sqrt(mean_squared_error(y_test_reg, rid_pred)))"
   ]
  },
  {
   "cell_type": "code",
   "execution_count": null,
   "id": "410eb518",
   "metadata": {},
   "outputs": [],
   "source": []
  }
 ],
 "metadata": {
  "kernelspec": {
   "display_name": "Python 3 (ipykernel)",
   "language": "python",
   "name": "python3"
  },
  "language_info": {
   "codemirror_mode": {
    "name": "ipython",
    "version": 3
   },
   "file_extension": ".py",
   "mimetype": "text/x-python",
   "name": "python",
   "nbconvert_exporter": "python",
   "pygments_lexer": "ipython3",
   "version": "3.9.12"
  }
 },
 "nbformat": 4,
 "nbformat_minor": 5
}
